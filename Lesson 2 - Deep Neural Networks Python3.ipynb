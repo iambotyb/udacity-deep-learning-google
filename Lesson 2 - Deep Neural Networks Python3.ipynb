{
 "cells": [
  {
   "cell_type": "markdown",
   "metadata": {},
   "source": [
    "# Deep Learning Neural Networks\n",
    "\n",
    "Previously in Lesson 1, we created a pickle with formatted datasets for training, development and testing on the [notMNIST dataset](http://yaroslavvb.blogspot.com/2011/09/notmnist-dataset.html).\n",
    "\n",
    "The goal of this assignment is to progressively train deeper and more accurate models using TensorFlow."
   ]
  },
  {
   "cell_type": "code",
   "execution_count": 3,
   "metadata": {
    "collapsed": false
   },
   "outputs": [],
   "source": [
    "# These are all the modules we'll be using later. Make sure you can import them\n",
    "# before proceeding further.\n",
    "import numpy as np\n",
    "import tensorflow as tf\n",
    "import matplotlib.pyplot as plt\n",
    "from six.moves import cPickle as pickle\n",
    "from six.moves import range\n",
    "%matplotlib inline"
   ]
  },
  {
   "cell_type": "markdown",
   "metadata": {},
   "source": [
    "### Read data from Lesson 1"
   ]
  },
  {
   "cell_type": "code",
   "execution_count": 57,
   "metadata": {
    "collapsed": false
   },
   "outputs": [
    {
     "name": "stdout",
     "output_type": "stream",
     "text": [
      "Examples in train dataset: 197.901 thousand\n",
      "Dimensions of train labels (197901,)\n",
      "Dimensions of train dataset (197901, 28, 28)\n",
      "\n",
      "Examples in valid dataset: 9.876 thousand\n",
      "Dimensions of valid labels (9876,)\n",
      "Dimensions of valid dataset (9876, 28, 28)\n",
      "\n",
      "Examples in test dataset: 9.857 thousand\n",
      "Dimensions of test labels (9857,)\n",
      "Dimensions of test dataset (9857, 28, 28)\n"
     ]
    }
   ],
   "source": [
    "pickle_file = 'data/notMNIST_clean_python3.pickle'\n",
    "\n",
    "dic_file = pickle.load(open(pickle_file, 'rb'))\n",
    "train_dataset = dic_file[\"train_dataset\"]\n",
    "train_labels = dic_file[\"train_labels\"]\n",
    "valid_dataset = dic_file[\"valid_dataset\"]\n",
    "valid_labels = dic_file[\"valid_labels\"]\n",
    "test_dataset = dic_file[\"test_dataset\"]\n",
    "test_labels = dic_file[\"test_labels\"]\n",
    "\n",
    "del dic_file # freee up memory\n",
    "\n",
    "print(\"Examples in train dataset:\", len(train_labels) / float(1000), \"thousand\")\n",
    "print(\"Dimensions of train labels\", train_labels.shape)\n",
    "print(\"Dimensions of train dataset\", train_dataset.shape)\n",
    "print(\"\\nExamples in valid dataset:\", len(valid_labels) / float(1000), \"thousand\")\n",
    "print(\"Dimensions of valid labels\", valid_labels.shape)\n",
    "print(\"Dimensions of valid dataset\", valid_dataset.shape)\n",
    "print(\"\\nExamples in test dataset:\", len(test_labels) / float(1000), \"thousand\")\n",
    "print(\"Dimensions of test labels\", test_labels.shape)\n",
    "print(\"Dimensions of test dataset\", test_dataset.shape)"
   ]
  },
  {
   "cell_type": "code",
   "execution_count": 59,
   "metadata": {
    "collapsed": false
   },
   "outputs": [
    {
     "data": {
      "image/png": "[encoded data removed]",
      "text/plain": [
       "<matplotlib.figure.Figure at 0x7fc4e8d7a358>"
      ]
     },
     "metadata": {},
     "output_type": "display_data"
    }
   ],
   "source": [
    "# view images\n",
    "def print_images(image, label):\n",
    "    plt.imshow(image, cmap = \"gray\")\n",
    "    plt.axis(\"off\")\n",
    "    plt.title(label)\n",
    "    plt.show()\n",
    "    \n",
    "index = np.random.randint(0, 1000)\n",
    "print_images(test_dataset[index], test_labels[index])"
   ]
  },
  {
   "cell_type": "markdown",
   "metadata": {},
   "source": [
    "### Reshape Data intro accordning matrices"
   ]
  },
  {
   "cell_type": "code",
   "execution_count": 60,
   "metadata": {
    "collapsed": false
   },
   "outputs": [
    {
     "name": "stdout",
     "output_type": "stream",
     "text": [
      "Train Shapes --> Dataset: (197901, 784)   Labels: (197901, 10)\n",
      "Valid Shapes --> Dataset: (9876, 784)   Labels: (9876, 10)\n",
      "Test Shapes  --> Dataset: (9857, 784)   Labels: (9857, 10)\n"
     ]
    }
   ],
   "source": [
    "image_size = 28\n",
    "num_labels = 10\n",
    "\n",
    "def reformat(dataset, labels):\n",
    "    # as.type is not needed as the array is already float32 but just in case\n",
    "    dataset = dataset.reshape((-1, image_size * image_size)).astype(np.float32)\n",
    "    # Map 0 to [1.0, 0.0, 0.0 ...], 1 to [0.0, 1.0, 0.0 ...]\n",
    "    labels = (np.arange(num_labels) == labels[:, None]).astype(np.float32)\n",
    "    return dataset, labels\n",
    "\n",
    "train_dataset, train_labels = reformat(train_dataset, train_labels)\n",
    "valid_dataset, valid_labels = reformat(valid_dataset, valid_labels)\n",
    "test_dataset, test_labels = reformat(test_dataset, test_labels)\n",
    "\n",
    "print(\"Train Shapes --> Dataset: %s   Labels: %s\" %(train_dataset.shape, train_labels.shape))\n",
    "print(\"Valid Shapes --> Dataset: %s   Labels: %s\" %(valid_dataset.shape, valid_labels.shape))\n",
    "print(\"Test Shapes  --> Dataset: %s   Labels: %s\" %(test_dataset.shape, test_labels.shape))"
   ]
  },
  {
   "cell_type": "code",
   "execution_count": 61,
   "metadata": {
    "collapsed": false
   },
   "outputs": [
    {
     "data": {
      "image/png": "[encoded data removed]",
      "text/plain": [
       "<matplotlib.figure.Figure at 0x7fc4e8da54e0>"
      ]
     },
     "metadata": {},
     "output_type": "display_data"
    }
   ],
   "source": [
    "# images\n",
    "def print_images(image, label):\n",
    "    plt.imshow(image.reshape(image_size, image_size), cmap = \"gray\")\n",
    "    plt.axis(\"off\")\n",
    "    plt.title(label)\n",
    "    plt.show()\n",
    "    \n",
    "index = np.random.randint(0, 1000)\n",
    "print_images(train_dataset[index], train_labels[index])"
   ]
  },
  {
   "cell_type": "markdown",
   "metadata": {},
   "source": [
    "### Multinomial Logistic Regression - Gradient Descent\n",
    "We're first going to train a multinomial logistic regression using simple gradient descent.\n",
    "\n",
    "TensorFlow works like this:\n",
    "* First you describe the computation that you want to see performed: what the inputs, the variables, and the operations look like. These get created as nodes over a computation graph. This description is all contained within the block below:\n",
    "\n",
    "      with graph.as_default():\n",
    "          ...\n",
    "\n",
    "* Then you can run the operations on this graph as many times as you want by calling `session.run()`, providing it outputs to fetch from the graph that get returned. This runtime operation is all contained in the block below:\n",
    "\n",
    "      with tf.Session(graph=graph) as session:\n",
    "          ...\n",
    "\n",
    "Let's load all the data into TensorFlow and build the computation graph corresponding to our training:"
   ]
  },
  {
   "cell_type": "code",
   "execution_count": 64,
   "metadata": {
    "collapsed": true
   },
   "outputs": [],
   "source": [
    "# With gradient descent training, even this much data is prohibitive.\n",
    "# Subset the training data for faster turnaround.\n",
    "train_subset_size = 10000\n",
    "\n",
    "graph = tf.Graph()\n",
    "with graph.as_default():\n",
    "    \n",
    "    \"\"\"Constants - Input Data\n",
    "    \n",
    "    Load the training, validation and test data into constant that \n",
    "    attached to the graph\n",
    "    \"\"\"\n",
    "    tf_train_dataset = tf.constant(train_dataset[:train_subset_size])\n",
    "    tf_train_labels = tf.constant(train_labels[:train_subset_size])\n",
    "    tf_valid_dataset = tf.constant(valid_dataset)\n",
    "    tf_test_dataset = tf.constant(test_dataset)\n",
    "    \n",
    "    \"\"\"    Variables - Weights\n",
    "    \n",
    "    These are the parameters that we are going to be training.\n",
    "    Weights are initiallized randomly and the biases to zero\n",
    "    \"\"\"\n",
    "    weights = tf.Variable(tf.truncated_normal([image_size * image_size, num_labels]))\n",
    "    biases = tf.Variable(tf.zeros([num_labels]))\n",
    "    \n",
    "    \"\"\"Training Computation\n",
    "  \n",
    "    We multiply the inputs with the weight matrix, and add biases. \n",
    "    We compute then calculate the softmax and cross-entropy (it's one \n",
    "    operation in TensorFlow, because it's very common, and it can be optimized). \n",
    "    We take the average of this cross-entropy across all training examples: that's our loss.\n",
    "    \"\"\"\n",
    "    logits = tf.matmul(tf_train_dataset, weights) + biases\n",
    "    loss = tf.reduce_mean(tf.nn.softmax_cross_entropy_with_logits(logits, tf_train_labels))\n",
    "    \n",
    "    \"\"\"Optimizer\n",
    "    We now find the minimum of this loss using gradient descent\n",
    "    \"\"\"\n",
    "    optimizer = tf.train.GradientDescentOptimizer(0.5).minimize(loss)\n",
    "    \n",
    "    \"\"\"Predictions for the training, validation and test data.\n",
    "    \n",
    "    These are not part of training, but merely here so that we can report\n",
    "    accuracy figures as we train\n",
    "    \"\"\"\n",
    "    train_prediction = tf.nn.softmax(logits)\n",
    "    valid_prediction = tf.nn.softmax(tf.matmul(tf_valid_dataset, weights) + biases)\n",
    "    test_prediction = tf.nn.softmax(tf.matmul(tf_test_dataset, weights) + biases)"
   ]
  },
  {
   "cell_type": "code",
   "execution_count": 66,
   "metadata": {
    "collapsed": false
   },
   "outputs": [
    {
     "name": "stdout",
     "output_type": "stream",
     "text": [
      "Initialized\n",
      "Loss at step 0: 18.558634\n",
      "Training Accuracy: \t10.3%\n",
      "Validation Accuracy: \t11.9%\n",
      "Loss at step 100: 2.343371\n",
      "Training Accuracy: \t71.9%\n",
      "Validation Accuracy: \t70.6%\n",
      "Loss at step 200: 1.872649\n",
      "Training Accuracy: \t74.8%\n",
      "Validation Accuracy: \t72.9%\n",
      "Loss at step 300: 1.623941\n",
      "Training Accuracy: \t76.0%\n",
      "Validation Accuracy: \t73.6%\n",
      "Loss at step 400: 1.455439\n",
      "Training Accuracy: \t76.7%\n",
      "Validation Accuracy: \t74.2%\n",
      "Loss at step 500: 1.330029\n",
      "Training Accuracy: \t77.4%\n",
      "Validation Accuracy: \t74.6%\n",
      "Loss at step 600: 1.231195\n",
      "Training Accuracy: \t78.0%\n",
      "Validation Accuracy: \t74.9%\n",
      "Loss at step 700: 1.150552\n",
      "Training Accuracy: \t78.5%\n",
      "Validation Accuracy: \t75.0%\n",
      "Loss at step 800: 1.083279\n",
      "Training Accuracy: \t79.0%\n",
      "Validation Accuracy: \t75.2%\n",
      "\n",
      "Test Accuracy: \t\t82.1%\n",
      "CPU times: user 2min 21s, sys: 16 s, total: 2min 37s\n",
      "Wall time: 52.1 s\n"
     ]
    }
   ],
   "source": [
    "%%time\n",
    "#Running the computation\n",
    "num_steps = 801\n",
    "\n",
    "def accuracy(predictions, labels):\n",
    "    return 100.0 * np.sum(np.argmax(predictions, 1) == np.argmax(labels, 1)) / predictions.shape[0]\n",
    "\n",
    "with tf.Session(graph=graph) as session:\n",
    "    \"\"\"  This is a one-time operation which ensures the parameters get initialized as\n",
    "    we described in the graph: random weights for the matrix, zeros for the\n",
    "    biases.\"\"\"\n",
    "    tf.initialize_all_variables().run()\n",
    "    print(\"Initialized\")\n",
    "    for step in range(num_steps):\n",
    "        \"\"\"Run the computations. We tell .run() that we want to run the optimizer,\n",
    "        and get the loss value and the training predictions returned as numpy\n",
    "        arrays.\"\"\"\n",
    "        _, l, predictions = session.run([optimizer, loss, train_prediction])\n",
    "        if step % 100 == 0:\n",
    "            print(\"Loss at step %d: %f\" %(step, l))\n",
    "            print(\"Training Accuracy: \\t%.1f%%\" % accuracy(predictions, train_labels[:train_subset_size]))\n",
    "            \"\"\"Calling .eval() on valid_prediction is basically like calling run(), but\n",
    "            just to get that one numpy array. Note that it recomputes all its graph\n",
    "            dependencies.\"\"\"\n",
    "            print(\"Validation Accuracy: \\t%.1f%%\" %accuracy(valid_prediction.eval(), valid_labels))\n",
    "    print(\"\\nTest Accuracy: \\t\\t%.1f%%\" %accuracy(test_prediction.eval(), test_labels))"
   ]
  },
  {
   "cell_type": "markdown",
   "metadata": {},
   "source": [
    "### Stochastic Gradient Descent\n",
    "The graph will be similar, except that instead of holding all the training data into a constant node, we create a `Placeholder` node which will be fed actual data at every call of `session.run()`."
   ]
  },
  {
   "cell_type": "code",
   "execution_count": 68,
   "metadata": {
    "collapsed": true
   },
   "outputs": [],
   "source": [
    "batch_size = 128\n",
    "\n",
    "graph = tf.Graph()\n",
    "with graph.as_default():\n",
    "    \"\"\"Input data. For the training data, we use a placeholder that will be fed\n",
    "    at run time with a training minibatch\"\"\"\n",
    "    tf_train_dataset = tf.placeholder(tf.float32, shape = (batch_size, image_size * image_size))\n",
    "    tf_train_labels = tf.placeholder(tf.float32, shape = (batch_size, num_labels))\n",
    "    \n",
    "    tf_valid_dataset = tf.constant(valid_dataset)\n",
    "    tf_test_dataset = tf.constant(test_dataset)\n",
    "    \n",
    "    \"\"\"    Variables - Weights\n",
    "    \n",
    "    These are the parameters that we are going to be training.\n",
    "    Weights are initiallized randomly and the biases to zero\n",
    "    \"\"\"\n",
    "    weights = tf.Variable(tf.truncated_normal([image_size * image_size, num_labels]))\n",
    "    biases = tf.Variable(tf.zeros([num_labels]))\n",
    "    \n",
    "    \"\"\"Training Computation\n",
    "  \n",
    "    We multiply the inputs with the weight matrix, and add biases. \n",
    "    We compute then calculate the softmax and cross-entropy (it's one \n",
    "    operation in TensorFlow, because it's very common, and it can be optimized). \n",
    "    We take the average of this cross-entropy across all training examples: that's our loss.\n",
    "    \"\"\"\n",
    "    logits = tf.matmul(tf_train_dataset, weights) + biases\n",
    "    loss = tf.reduce_mean(tf.nn.softmax_cross_entropy_with_logits(logits, tf_train_labels))\n",
    "    \n",
    "    \"\"\"Optimizer\n",
    "    We now find the minimum of this loss using gradient descent\n",
    "    \"\"\"\n",
    "    optimizer = tf.train.GradientDescentOptimizer(0.5).minimize(loss)\n",
    "    \n",
    "    \"\"\"Predictions for the training, validation and test data.\n",
    "    \n",
    "    These are not part of training, but merely here so that we can report\n",
    "    accuracy figures as we train\n",
    "    \"\"\"\n",
    "    train_prediction = tf.nn.softmax(logits)\n",
    "    valid_prediction = tf.nn.softmax(tf.matmul(tf_valid_dataset, weights) + biases)\n",
    "    test_prediction = tf.nn.softmax(tf.matmul(tf_test_dataset, weights) + biases)"
   ]
  },
  {
   "cell_type": "code",
   "execution_count": 70,
   "metadata": {
    "collapsed": false
   },
   "outputs": [
    {
     "name": "stdout",
     "output_type": "stream",
     "text": [
      "Initialized\n",
      "Minibatch loss at step 0: 17.499760\n",
      "Minibatch accuracy: \t13.3%\n",
      "Validation accuracy: \t12.0%\n",
      "Minibatch loss at step 500: 1.993294\n",
      "Minibatch accuracy: \t68.0%\n",
      "Validation accuracy: \t75.0%\n",
      "Minibatch loss at step 1000: 1.342129\n",
      "Minibatch accuracy: \t79.7%\n",
      "Validation accuracy: \t76.3%\n",
      "Minibatch loss at step 1500: 0.968957\n",
      "Minibatch accuracy: \t81.2%\n",
      "Validation accuracy: \t76.7%\n",
      "Minibatch loss at step 2000: 1.997852\n",
      "Minibatch accuracy: \t67.2%\n",
      "Validation accuracy: \t77.7%\n",
      "Minibatch loss at step 2500: 1.030935\n",
      "Minibatch accuracy: \t80.5%\n",
      "Validation accuracy: \t77.8%\n",
      "Minibatch loss at step 3000: 0.841187\n",
      "Minibatch accuracy: \t81.2%\n",
      "Validation accuracy: \t78.2%\n",
      "\n",
      "Test accuracy: 85.2%\n",
      "CPU times: user 7.84 s, sys: 2.14 s, total: 9.98 s\n",
      "Wall time: 4.97 s\n"
     ]
    }
   ],
   "source": [
    "%%time\n",
    "num_steps = 3001\n",
    "\n",
    "with tf.Session(graph=graph) as session:\n",
    "    tf.initialize_all_variables().run()\n",
    "    print(\"Initialized\")\n",
    "    for step in range(num_steps):\n",
    "        \n",
    "        \"\"\"This offset is an integer of the batch size, Such that \n",
    "        we are taking the batches not in the order they are presented.\"\"\"\n",
    "        offset = (step * batch_size) % (train_labels.shape[0] - batch_size)\n",
    "        \n",
    "        # Generate a minibatch.\n",
    "        batch_data = train_dataset[offset:(offset + batch_size)]\n",
    "        batch_labels = train_labels[offset:(offset + batch_size)]\n",
    "        \n",
    "        \"\"\"Prepare a dictionary telling the session where to feed the minibatch.\n",
    "        The key of the dictionary is the placeholder node of the graph to be fed,\n",
    "        and the value is the numpy array to feed to it.\"\"\"\n",
    "        feed_dict = {tf_train_dataset : batch_data, tf_train_labels : batch_labels}\n",
    "        \n",
    "        # Perform calculations\n",
    "        _, l, predictions = session.run([optimizer, loss, train_prediction], feed_dict = feed_dict)\n",
    "        \n",
    "        # Give feedback every 500 steps\n",
    "        if step % 500 == 0:\n",
    "            print(\"Minibatch loss at step %d: %f\" % (step, l))\n",
    "            print(\"Minibatch accuracy: \\t%.1f%%\" % accuracy(predictions, batch_labels))\n",
    "            print(\"Validation accuracy: \\t%.1f%%\" % accuracy(valid_prediction.eval(), valid_labels))\n",
    "    print(\"\\nTest accuracy: %.1f%%\" % accuracy(test_prediction.eval(), test_labels))"
   ]
  },
  {
   "cell_type": "markdown",
   "metadata": {},
   "source": [
    "### Stochastic Gradient Descent + Hidden Layer\n",
    "Turn the logistic regression example with SGD into a 1-hidden layer neural network with rectified linear units [nn.relu()](https://www.tensorflow.org/versions/r0.7/api_docs/python/nn.html#relu) and 1024 hidden nodes. This model should improve your validation / test accuracy."
   ]
  },
  {
   "cell_type": "code",
   "execution_count": null,
   "metadata": {
    "collapsed": true
   },
   "outputs": [],
   "source": [
    "batch_size = 128\n",
    "\n",
    "graph = tf.Graph()\n",
    "with graph.as_default():\n",
    "    \"\"\"Input data. For the training data, we use a placeholder that will be fed\n",
    "    at run time with a training minibatch\"\"\"\n",
    "    tf_train_dataset = tf.placeholder(tf.float32, shape = (batch_size, image_size * image_size))\n",
    "    tf_train_labels = tf.placeholder(tf.float32, shape = (batch_size, num_labels))\n",
    "    \n",
    "    tf_valid_dataset = tf.constant(valid_dataset)\n",
    "    tf_test_dataset = tf.constant(test_dataset)\n",
    "    \n",
    "    \"\"\"    Variables - Weights\n",
    "    \n",
    "    These are the parameters that we are going to be training.\n",
    "    Weights are initiallized randomly and the biases to zero\n",
    "    \"\"\"\n",
    "    weights = tf.Variable(tf.truncated_normal([image_size * image_size, num_labels]))\n",
    "    biases = tf.Variable(tf.zeros([num_labels]))\n",
    "    \n",
    "    \"\"\"Training Computation\n",
    "  \n",
    "    We multiply the inputs with the weight matrix, and add biases. \n",
    "    We compute then calculate the softmax and cross-entropy (it's one \n",
    "    operation in TensorFlow, because it's very common, and it can be optimized). \n",
    "    We take the average of this cross-entropy across all training examples: that's our loss.\n",
    "    \"\"\"\n",
    "    logits = tf.matmul(tf_train_dataset, weights) + biases\n",
    "    loss = tf.reduce_mean(tf.nn.softmax_cross_entropy_with_logits(logits, tf_train_labels))\n",
    "    \n",
    "    \"\"\"Optimizer\n",
    "    We now find the minimum of this loss using gradient descent\n",
    "    \"\"\"\n",
    "    optimizer = tf.train.GradientDescentOptimizer(0.5).minimize(loss)\n",
    "    \n",
    "    \"\"\"Predictions for the training, validation and test data.\n",
    "    \n",
    "    These are not part of training, but merely here so that we can report\n",
    "    accuracy figures as we train\n",
    "    \"\"\"\n",
    "    train_prediction = tf.nn.softmax(logits)\n",
    "    valid_prediction = tf.nn.softmax(tf.matmul(tf_valid_dataset, weights) + biases)\n",
    "    test_prediction = tf.nn.softmax(tf.matmul(tf_test_dataset, weights) + biases)"
   ]
  },
  {
   "cell_type": "code",
   "execution_count": 71,
   "metadata": {
    "collapsed": false
   },
   "outputs": [
    {
     "name": "stdout",
     "output_type": "stream",
     "text": [
      "Initialized\n",
      "Minibatch loss at step 0: 16.924141\n",
      "Minibatch accuracy: \t10.9%\n",
      "Validation accuracy: \t12.9%\n",
      "Minibatch loss at step 500: 1.968161\n",
      "Minibatch accuracy: \t74.2%\n",
      "Validation accuracy: \t73.9%\n",
      "Minibatch loss at step 1000: 1.413652\n",
      "Minibatch accuracy: \t76.6%\n",
      "Validation accuracy: \t76.1%\n",
      "Minibatch loss at step 1500: 1.069954\n",
      "Minibatch accuracy: \t78.1%\n",
      "Validation accuracy: \t76.7%\n",
      "Minibatch loss at step 2000: 1.822005\n",
      "Minibatch accuracy: \t69.5%\n",
      "Validation accuracy: \t77.4%\n",
      "Minibatch loss at step 2500: 0.991371\n",
      "Minibatch accuracy: \t78.9%\n",
      "Validation accuracy: \t78.0%\n",
      "Minibatch loss at step 3000: 0.712138\n",
      "Minibatch accuracy: \t84.4%\n",
      "Validation accuracy: \t77.9%\n",
      "\n",
      "Test accuracy: 85.2%\n",
      "CPU times: user 7.98 s, sys: 2.19 s, total: 10.2 s\n",
      "Wall time: 5.11 s\n"
     ]
    }
   ],
   "source": [
    "%%time\n",
    "num_steps = 3001\n",
    "\n",
    "with tf.Session(graph=graph) as session:\n",
    "    tf.initialize_all_variables().run()\n",
    "    print(\"Initialized\")\n",
    "    for step in range(num_steps):\n",
    "        \n",
    "        \"\"\"This offset is an integer of the batch size, Such that \n",
    "        we are taking the batches not in the order they are presented.\"\"\"\n",
    "        offset = (step * batch_size) % (train_labels.shape[0] - batch_size)\n",
    "        \n",
    "        # Generate a minibatch.\n",
    "        batch_data = train_dataset[offset:(offset + batch_size)]\n",
    "        batch_labels = train_labels[offset:(offset + batch_size)]\n",
    "        \n",
    "        \"\"\"Prepare a dictionary telling the session where to feed the minibatch.\n",
    "        The key of the dictionary is the placeholder node of the graph to be fed,\n",
    "        and the value is the numpy array to feed to it.\"\"\"\n",
    "        feed_dict = {tf_train_dataset : batch_data, tf_train_labels : batch_labels}\n",
    "        \n",
    "        # Perform calculations\n",
    "        _, l, predictions = session.run([optimizer, loss, train_prediction], feed_dict = feed_dict)\n",
    "        \n",
    "        # Give feedback every 500 steps\n",
    "        if step % 500 == 0:\n",
    "            print(\"Minibatch loss at step %d: %f\" % (step, l))\n",
    "            print(\"Minibatch accuracy: \\t%.1f%%\" % accuracy(predictions, batch_labels))\n",
    "            print(\"Validation accuracy: \\t%.1f%%\" % accuracy(valid_prediction.eval(), valid_labels))\n",
    "    print(\"\\nTest accuracy: %.1f%%\" % accuracy(test_prediction.eval(), test_labels))"
   ]
  },
  {
   "cell_type": "code",
   "execution_count": 73,
   "metadata": {
    "collapsed": true
   },
   "outputs": [],
   "source": [
    "batch_size = 128\n",
    "hidden_layer_nodes = 1024\n",
    "\n",
    "graph = tf.Graph()\n",
    "with graph.as_default():\n",
    "    \"\"\"Input data. For the training data, we use a placeholder that will be fed\n",
    "    at run time with a training minibatch\"\"\"\n",
    "    tf_train_dataset = tf.placeholder(tf.float32, shape = (batch_size, image_size * image_size))\n",
    "    tf_train_labels = tf.placeholder(tf.float32, shape = (batch_size, num_labels))\n",
    "    \n",
    "    tf_valid_dataset = tf.constant(valid_dataset)\n",
    "    tf_test_dataset = tf.constant(test_dataset)\n",
    "    \n",
    "    \"\"\"    Variables - Weights\n",
    "    \n",
    "    These are the parameters that we are going to be training.\n",
    "    Weights are initiallized randomly and the biases to zero\n",
    "    \"\"\"\n",
    "    weights1 = tf.Variable(tf.truncated_normal([image_size * image_size, hidden_layer_nodes]))\n",
    "    biases1 = tf.Variable(tf.zeros([hidden_layer_nodes]))\n",
    "    \n",
    "    weights2 = tf.Variable(tf.truncated_normal([hidden_layer_nodes, num_labels]))\n",
    "    biases2 = tf.Variable(tf.zeros([num_labels]))\n",
    "    \n",
    "    \"\"\"Training Computation\n",
    "  \n",
    "    We multiply the inputs with the weight matrix, and add biases. \n",
    "    We compute then calculate the softmax and cross-entropy (it's one \n",
    "    operation in TensorFlow, because it's very common, and it can be optimized). \n",
    "    We take the average of this cross-entropy across all training examples: that's our loss.\n",
    "    \"\"\"\n",
    "    hidden = tf.nn.relu(tf.matmul(tf_train_dataset, weights1) + biases1)\n",
    "    logits = tf.matmul(hidden, weights2) + biases2\n",
    "    loss = tf.reduce_mean(tf.nn.softmax_cross_entropy_with_logits(logits, tf_train_labels))\n",
    "    \n",
    "    \"\"\"Optimizer\n",
    "    We now find the minimum of this loss using gradient descent\n",
    "    \"\"\"\n",
    "    optimizer = tf.train.GradientDescentOptimizer(0.5).minimize(loss)\n",
    "    \n",
    "    \"\"\"Predictions for the training, validation and test data.\n",
    "    \n",
    "    These are not part of training, but merely here so that we can report\n",
    "    accuracy figures as we train\n",
    "    \"\"\"\n",
    "    train_prediction = tf.nn.softmax(logits)\n",
    "    \n",
    "    hidden_valid = tf.nn.relu(tf.matmul(tf_valid_dataset, weights1) + biases1)\n",
    "    valid_prediction = tf.nn.softmax(tf.matmul(hidden_valid, weights2) + biases2)\n",
    "    \n",
    "    hidden_test = tf.nn.relu(tf.matmul(tf_test_dataset, weights1) + biases1)\n",
    "    test_prediction = tf.nn.softmax(tf.matmul(hidden_test, weights2) + biases2)"
   ]
  },
  {
   "cell_type": "code",
   "execution_count": 74,
   "metadata": {
    "collapsed": false
   },
   "outputs": [
    {
     "name": "stdout",
     "output_type": "stream",
     "text": [
      "Initialized\n",
      "Minibatch loss at step 0: 390.293579\n",
      "Minibatch accuracy: \t11.7%\n",
      "Validation accuracy: \t24.7%\n",
      "Minibatch loss at step 500: 21.466150\n",
      "Minibatch accuracy: \t77.3%\n",
      "Validation accuracy: \t80.7%\n",
      "Minibatch loss at step 1000: 13.902340\n",
      "Minibatch accuracy: \t87.5%\n",
      "Validation accuracy: \t80.5%\n",
      "Minibatch loss at step 1500: 7.822052\n",
      "Minibatch accuracy: \t87.5%\n",
      "Validation accuracy: \t81.5%\n",
      "Minibatch loss at step 2000: 5.972208\n",
      "Minibatch accuracy: \t79.7%\n",
      "Validation accuracy: \t82.5%\n",
      "Minibatch loss at step 2500: 1.607383\n",
      "Minibatch accuracy: \t82.8%\n",
      "Validation accuracy: \t81.4%\n",
      "Minibatch loss at step 3000: 1.943299\n",
      "Minibatch accuracy: \t88.3%\n",
      "Validation accuracy: \t81.7%\n",
      "\n",
      "Test accuracy: 88.2%\n",
      "CPU times: user 3min 52s, sys: 10.6 s, total: 4min 3s\n",
      "Wall time: 1min 25s\n"
     ]
    }
   ],
   "source": [
    "%%time\n",
    "num_steps = 3001\n",
    "\n",
    "with tf.Session(graph=graph) as session:\n",
    "    tf.initialize_all_variables().run()\n",
    "    print(\"Initialized\")\n",
    "    for step in range(num_steps):\n",
    "        \n",
    "        \"\"\"This offset is an integer of the batch size, Such that \n",
    "        we are taking the batches not in the order they are presented.\"\"\"\n",
    "        offset = (step * batch_size) % (train_labels.shape[0] - batch_size)\n",
    "        \n",
    "        # Generate a minibatch.\n",
    "        batch_data = train_dataset[offset:(offset + batch_size)]\n",
    "        batch_labels = train_labels[offset:(offset + batch_size)]\n",
    "        \n",
    "        \"\"\"Prepare a dictionary telling the session where to feed the minibatch.\n",
    "        The key of the dictionary is the placeholder node of the graph to be fed,\n",
    "        and the value is the numpy array to feed to it.\"\"\"\n",
    "        feed_dict = {tf_train_dataset : batch_data, tf_train_labels : batch_labels}\n",
    "        \n",
    "        # Perform calculations\n",
    "        _, l, predictions = session.run([optimizer, loss, train_prediction], feed_dict = feed_dict)\n",
    "        \n",
    "        # Give feedback every 500 steps\n",
    "        if step % 500 == 0:\n",
    "            print(\"Minibatch loss at step %d: %f\" % (step, l))\n",
    "            print(\"Minibatch accuracy: \\t%.1f%%\" % accuracy(predictions, batch_labels))\n",
    "            print(\"Validation accuracy: \\t%.1f%%\" % accuracy(valid_prediction.eval(), valid_labels))\n",
    "    print(\"\\nTest accuracy: %.1f%%\" % accuracy(test_prediction.eval(), test_labels))"
   ]
  },
  {
   "cell_type": "code",
   "execution_count": null,
   "metadata": {
    "collapsed": true
   },
   "outputs": [],
   "source": []
  }
 ],
 "metadata": {
  "kernelspec": {
   "display_name": "Python 3",
   "language": "python",
   "name": "python3"
  },
  "language_info": {
   "codemirror_mode": {
    "name": "ipython",
    "version": 3
   },
   "file_extension": ".py",
   "mimetype": "text/x-python",
   "name": "python",
   "nbconvert_exporter": "python",
   "pygments_lexer": "ipython3",
   "version": "3.4.3"
  }
 },
 "nbformat": 4,
 "nbformat_minor": 0
}
