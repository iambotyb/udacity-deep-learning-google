{
 "cells": [
  {
   "cell_type": "code",
   "execution_count": null,
   "metadata": {
    "collapsed": true
   },
   "outputs": [],
   "source": [
    "# For demonstration purposes if need to delete files\n",
    "import shutil\n",
    "shutil.rmtree(\"notMNIST_large\")"
   ]
  },
  {
   "cell_type": "markdown",
   "metadata": {},
   "source": [
    "# Code for Lesson 1 of the Deep Learning Course"
   ]
  },
  {
   "cell_type": "markdown",
   "metadata": {},
   "source": [
    "### Imports"
   ]
  },
  {
   "cell_type": "code",
   "execution_count": 96,
   "metadata": {
    "collapsed": false
   },
   "outputs": [],
   "source": [
    "import matplotlib.pyplot as plt\n",
    "import numpy as np\n",
    "import os\n",
    "import sys\n",
    "import tarfile\n",
    "import random\n",
    "import itertools as it\n",
    "import time\n",
    "from IPython.display import display, Image, clear_output\n",
    "from scipy import ndimage\n",
    "from sklearn.linear_model import LogisticRegressionCV\n",
    "from sklearn.cross_validation import cross_val_score\n",
    "from six.moves.urllib.request import urlretrieve\n",
    "from six.moves import cPickle as pickle\n",
    "%matplotlib inline"
   ]
  },
  {
   "cell_type": "markdown",
   "metadata": {},
   "source": [
    "### Download tar files that contain the images\n"
   ]
  },
  {
   "cell_type": "code",
   "execution_count": 3,
   "metadata": {
    "collapsed": false
   },
   "outputs": [
    {
     "name": "stdout",
     "output_type": "stream",
     "text": [
      "File already exists: notMNIST_large.tar.gz\n",
      "File already exists: notMNIST_small.tar.gz\n",
      "CPU times: user 0 ns, sys: 0 ns, total: 0 ns\n",
      "Wall time: 1.44 ms\n"
     ]
    }
   ],
   "source": [
    "%%time\n",
    "url = 'http://commondatastorage.googleapis.com/books1000/'\n",
    "def download(filename):\n",
    "  if not os.path.exists(filename):\n",
    "    print \"Dowloading \" + filename\n",
    "    urlretrieve(url + filename, filename)\n",
    "  else:\n",
    "    print \"File already exists: \" + filename\n",
    "  return filename\n",
    "\n",
    "train_filename = download('notMNIST_large.tar.gz')\n",
    "test_fileame = download('notMNIST_small.tar.gz')"
   ]
  },
  {
   "cell_type": "markdown",
   "metadata": {
    "collapsed": true
   },
   "source": [
    "### Untar downloaded files"
   ]
  },
  {
   "cell_type": "code",
   "execution_count": 4,
   "metadata": {
    "collapsed": false
   },
   "outputs": [
    {
     "name": "stdout",
     "output_type": "stream",
     "text": [
      "Extracting notMNIST_large.tar.gz, please wait\n",
      "Extracting notMNIST_small.tar.gz, please wait\n",
      "CPU times: user 54.1 s, sys: 15.7 s, total: 1min 9s\n",
      "Wall time: 1min 18s\n"
     ]
    }
   ],
   "source": [
    "%%time\n",
    "def untar(filename):\n",
    "    folder = filename.split(\".\")[0]\n",
    "    if os.path.isdir(folder):\n",
    "        print \"%s already extracted\" %filename\n",
    "    else:\n",
    "        print \"Extracting %s, please wait\" %filename\n",
    "        tar = tarfile.open(filename)\n",
    "        sys.stdout.flush()\n",
    "        tar.extractall()\n",
    "        tar.close()\n",
    "    extracted_folders = [\n",
    "        os.path.join(folder, subfolder) for subfolder in sorted(os.listdir(folder))\n",
    "        if os.path.isdir(os.path.join(folder, subfolder))]\n",
    "    return extracted_folders\n",
    "    \n",
    "train_filename = \"notMNIST_large.tar.gz\"    \n",
    "train_folders = untar(train_filename)\n",
    "test_filename = \"notMNIST_small.tar.gz\" \n",
    "test_folders = untar(test_filename)"
   ]
  },
  {
   "cell_type": "markdown",
   "metadata": {},
   "source": [
    "### Visualizing the data"
   ]
  },
  {
   "cell_type": "code",
   "execution_count": 8,
   "metadata": {
    "collapsed": false
   },
   "outputs": [
    {
     "data": {
      "image/png": "[encoded data removed]",
      "text/plain": [
       "<matplotlib.figure.Figure at 0x7f933bcbd9d0>"
      ]
     },
     "metadata": {},
     "output_type": "display_data"
    }
   ],
   "source": [
    "# display a three random image from each letter in the train folder\n",
    "images = []\n",
    "for folder in train_folders:\n",
    "    images_path = os.listdir(folder)\n",
    "    for i in xrange(1):\n",
    "        image_path = os.path.join(folder,\n",
    "                                  random.choice(images_path))\n",
    "        images.append(plt.imread(image_path))\n",
    "\n",
    "plt.imshow(np.hstack(images), cmap = 'gray')\n",
    "plt.axis('off')\n",
    "plt.show()"
   ]
  },
  {
   "cell_type": "code",
   "execution_count": 9,
   "metadata": {
    "collapsed": false
   },
   "outputs": [
    {
     "data": {
      "image/png": "[encoded data removed]",
      "text/plain": [
       "<matplotlib.figure.Figure at 0x7f9332930790>"
      ]
     },
     "metadata": {},
     "output_type": "display_data"
    }
   ],
   "source": [
    "# display a three random imagefrom each letter in the train folder\n",
    "images = []\n",
    "for folder in test_folders:\n",
    "    images_path = os.listdir(folder)\n",
    "    for i in xrange(1):\n",
    "        image_path = os.path.join(folder,\n",
    "                                  random.choice(images_path))\n",
    "        images.append(plt.imread(image_path))\n",
    "\n",
    "plt.imshow(np.hstack(images), cmap = 'gray')\n",
    "plt.axis('off')\n",
    "plt.show()"
   ]
  },
  {
   "cell_type": "code",
   "execution_count": 48,
   "metadata": {
    "collapsed": false
   },
   "outputs": [
    {
     "name": "stdout",
     "output_type": "stream",
     "text": [
      "Pickle file already existsnotMNIST_large/A.pickle\n",
      "Pickle file already existsnotMNIST_large/B.pickle\n",
      "Pickle file already existsnotMNIST_large/C.pickle\n",
      "Pickle file already existsnotMNIST_large/D.pickle\n",
      "Pickle file already existsnotMNIST_large/E.pickle\n",
      "Pickle file already existsnotMNIST_large/F.pickle\n",
      "Pickle file already existsnotMNIST_large/G.pickle\n",
      "Pickle file already existsnotMNIST_large/H.pickle\n",
      "Pickle file already existsnotMNIST_large/I.pickle\n",
      "Pickle file already existsnotMNIST_large/J.pickle\n",
      "Pickle file already existsnotMNIST_small/A.pickle\n",
      "Pickle file already existsnotMNIST_small/B.pickle\n",
      "Pickle file already existsnotMNIST_small/C.pickle\n",
      "Pickle file already existsnotMNIST_small/D.pickle\n",
      "Pickle file already existsnotMNIST_small/E.pickle\n",
      "Pickle file already existsnotMNIST_small/F.pickle\n",
      "Pickle file already existsnotMNIST_small/G.pickle\n",
      "Pickle file already existsnotMNIST_small/H.pickle\n",
      "Pickle file already existsnotMNIST_small/I.pickle\n",
      "Pickle file already existsnotMNIST_small/J.pickle\n",
      "CPU times: user 0 ns, sys: 0 ns, total: 0 ns\n",
      "Wall time: 550 µs\n"
     ]
    }
   ],
   "source": [
    "%%time\n",
    "image_size = 28\n",
    "pixel_depth = 255.0\n",
    "\n",
    "def load_letter(folder, min_num_images):\n",
    "    image_paths = os.listdir(folder)\n",
    "    dataset = np.ndarray(shape = (len(image_paths), image_size,\n",
    "                                image_size), dtype=np.float32)\n",
    "    for image_index, image in enumerate(os.listdir(folder)):\n",
    "        image_path = os.path.join(folder, image)\n",
    "        try:\n",
    "#             image_data = ndimage.imread(image_path).astype(float)\n",
    "            image_data = plt.imread(image_path).astype(float)\n",
    "            image_data = (image_data - pixel_depth / 2) / pixel_depth\n",
    "            if image_data.shape != (image_size, image_size):\n",
    "                raise Exception(\"Unexpected image shape\")\n",
    "            dataset[image_index, :, :] = image_data\n",
    "        except Exception as e:\n",
    "            print(\"Error reading\", image_path, \":\", e,\"- Skipping\")\n",
    "    \n",
    "    num_images = image_index\n",
    "    dataset = dataset[0:num_images, :, :]\n",
    "    if num_images < min_num_images:\n",
    "        raise Exception('Many fewer images than expected: %d < %d' %\n",
    "                        (num_images, min_num_images))\n",
    "    print('Full dataset tensor:', dataset.shape)\n",
    "    print('Mean:', np.mean(dataset))\n",
    "    print('Standard deviation:', np.std(dataset))\n",
    "    return dataset\n",
    "    \n",
    "def pickle_images(data_folders, min_num_images_per_class):\n",
    "    dataset_names = []\n",
    "    for folder in data_folders:\n",
    "        set_filename = folder + \".pickle\"\n",
    "        dataset_names.append(set_filename)\n",
    "        if not os.path.isfile(set_filename):\n",
    "            print \"Getting Images from \" + folder\n",
    "            dataset = load_letter(folder, min_num_images_per_class)\n",
    "            try:\n",
    "                with open(set_filename, \"wb\") as f:\n",
    "                    pickle.dump(dataset, f, pickle.HIGHEST_PROTOCOL)\n",
    "            except Exception as e:\n",
    "                print(\"Unable to save data to\", set_filename, \":\", e)\n",
    "        else:\n",
    "            print \"Pickle file already exists\" + set_filename\n",
    "    return dataset_names\n",
    "\n",
    "train_datasets = pickle_images(train_folders, 45000)\n",
    "test_datasets = pickle_images(test_folders, 1800)"
   ]
  },
  {
   "cell_type": "markdown",
   "metadata": {},
   "source": [
    "### Display Dataset\n",
    "Let's verify that the data still looks good. Displaying a sample of the letters in the pickle files"
   ]
  },
  {
   "cell_type": "code",
   "execution_count": 34,
   "metadata": {
    "collapsed": false
   },
   "outputs": [
    {
     "data": {
      "image/png": "[encoded data removed]",
      "text/plain": [
       "<matplotlib.figure.Figure at 0x7f933c05bd10>"
      ]
     },
     "metadata": {},
     "output_type": "display_data"
    }
   ],
   "source": [
    "for pickle_file_train, pickle_file_test in zip(train_datasets, test_datasets):\n",
    "    letter_set_train = pickle.load(open(pickle_file_train, 'rb'))\n",
    "    letter_set_test = pickle.load(open(pickle_file_test, 'rb'))\n",
    "    np.random.shuffle(letter_set_train)\n",
    "    np.random.shuffle(letter_set_test)\n",
    "    for i in xrange(3):\n",
    "        clear_output(wait=\"Ture\")\n",
    "        plt.imshow(np.hstack((letter_set_train[i], letter_set_test[i])), cmap = 'gray')\n",
    "        plt.title(\"Train Set  -  Test Set\")\n",
    "        plt.axis('off')\n",
    "        plt.show()\n",
    "        time.sleep(0.5)"
   ]
  },
  {
   "cell_type": "markdown",
   "metadata": {},
   "source": [
    "### Data Balanced\n",
    "We excpect the data to be balanced across classes"
   ]
  },
  {
   "cell_type": "code",
   "execution_count": 38,
   "metadata": {
    "collapsed": false
   },
   "outputs": [
    {
     "name": "stdout",
     "output_type": "stream",
     "text": [
      "notMNIST_large/A.pickle: 52911\n",
      "notMNIST_large/B.pickle: 52911\n",
      "notMNIST_large/C.pickle: 52911\n",
      "notMNIST_large/D.pickle: 52911\n",
      "notMNIST_large/E.pickle: 52911\n",
      "notMNIST_large/F.pickle: 52911\n",
      "notMNIST_large/G.pickle: 52911\n",
      "notMNIST_large/H.pickle: 52911\n",
      "notMNIST_large/I.pickle: 52911\n",
      "notMNIST_large/J.pickle: 52910\n",
      "notMNIST_small/A.pickle: 1872\n",
      "notMNIST_small/B.pickle: 1872\n",
      "notMNIST_small/C.pickle: 1872\n",
      "notMNIST_small/D.pickle: 1872\n",
      "notMNIST_small/E.pickle: 1872\n",
      "notMNIST_small/F.pickle: 1872\n",
      "notMNIST_small/G.pickle: 1871\n",
      "notMNIST_small/H.pickle: 1871\n",
      "notMNIST_small/I.pickle: 1871\n",
      "notMNIST_small/J.pickle: 1871\n"
     ]
    }
   ],
   "source": [
    "for pickle_file_train, pickle_file_test in zip(train_datasets, test_datasets):\n",
    "    letter_set_train = pickle.load(open(pickle_file_train, 'rb'))\n",
    "    print str(pickle_file_train) + \": \" + str(len(letter_set_train))\n",
    "for pickle_file_train, pickle_file_test in zip(train_datasets, test_datasets):\n",
    "    letter_set_test = pickle.load(open(pickle_file_test, 'rb'))\n",
    "    print str(pickle_file_test) + \": \" + str(len(letter_set_test))"
   ]
  },
  {
   "cell_type": "markdown",
   "metadata": {},
   "source": [
    "### Make Dataset and Labels\n",
    "Merge and prune the training data as needed. Depending on your computer setup, you might not be able to fit it all in memory, and you can tune `train_size` as needed. The labels will be stored into a separate array of integers 0 through 9.\n",
    "\n",
    "Also create a validation dataset for hyperparameter tuning."
   ]
  },
  {
   "cell_type": "code",
   "execution_count": 58,
   "metadata": {
    "collapsed": false
   },
   "outputs": [
    {
     "name": "stdout",
     "output_type": "stream",
     "text": [
      "Mergin Images from:notMNIST_large/A.pickle\n",
      "Mergin Images from:notMNIST_large/B.pickle\n",
      "Mergin Images from:notMNIST_large/C.pickle\n",
      "Mergin Images from:notMNIST_large/D.pickle\n",
      "Mergin Images from:notMNIST_large/E.pickle\n",
      "Mergin Images from:notMNIST_large/F.pickle\n",
      "Mergin Images from:notMNIST_large/G.pickle\n",
      "Mergin Images from:notMNIST_large/H.pickle\n",
      "Mergin Images from:notMNIST_large/I.pickle\n",
      "Mergin Images from:notMNIST_large/J.pickle\n",
      "Mergin Images from:notMNIST_small/A.pickle\n",
      "Mergin Images from:notMNIST_small/B.pickle\n",
      "Mergin Images from:notMNIST_small/C.pickle\n",
      "Mergin Images from:notMNIST_small/D.pickle\n",
      "Mergin Images from:notMNIST_small/E.pickle\n",
      "Mergin Images from:notMNIST_small/F.pickle\n",
      "Mergin Images from:notMNIST_small/G.pickle\n",
      "Mergin Images from:notMNIST_small/H.pickle\n",
      "Mergin Images from:notMNIST_small/I.pickle\n",
      "Mergin Images from:notMNIST_small/J.pickle\n"
     ]
    }
   ],
   "source": [
    "def make_labels_and_dataset(num_obs, img_size):\n",
    "    dataset = np.ndarray((num_obs, img_size, img_size), dtype=np.float32)\n",
    "    labels = np.ndarray(num_obs, dtype=np.int32)\n",
    "    return dataset, labels\n",
    "\n",
    "def merge_datasets(pickle_files, train_size, valid_size=0):\n",
    "    num_classes = len(pickle_files)\n",
    "    valid_dataset, valid_labels = make_labels_and_dataset(valid_size, image_size)\n",
    "    train_dataset, train_labels = make_labels_and_dataset(train_size, image_size)\n",
    "    valid_size_per_class = valid_size // num_classes\n",
    "    train_size_per_class = train_size // num_classes\n",
    "    \n",
    "    start_valid, start_train = 0, 0\n",
    "    end_valid, end_train = valid_size_per_class, train_size_per_class\n",
    "    end_total = valid_size_per_class + train_size_per_class\n",
    "    for label, pickle_file in enumerate(pickle_files):\n",
    "        print \"Mergin Images from: \" + str(pickle_file)\n",
    "        letter_set = pickle.load(open(pickle_file, 'rb'))\n",
    "        #shuffle letters\n",
    "        np.random.shuffle(letter_set)\n",
    "        valid_letter = letter_set[:valid_size_per_class, :, :]\n",
    "        valid_dataset[start_valid:end_valid, :, :] = valid_letter\n",
    "        valid_labels[start_valid:end_valid] = label\n",
    "        start_valid += valid_size_per_class\n",
    "        end_valid += valid_size_per_class\n",
    "        \n",
    "        train_letter = letter_set[valid_size_per_class:end_total, :, :]\n",
    "        train_dataset[start_train:end_train, :, :] = train_letter\n",
    "        train_labels[start_train:end_train] = label\n",
    "        start_train += train_size_per_class\n",
    "        end_train += train_size_per_class\n",
    "    return valid_labels, valid_dataset, train_labels, train_dataset\n",
    "\n",
    "train_size = 200000\n",
    "valid_size = 10000\n",
    "test_size = 10000\n",
    "\n",
    "valid_labels, valid_dataset, train_labels, train_dataset = merge_datasets(train_datasets, train_size, valid_size)\n",
    "_, _, test_labels, test_dataset = merge_datasets(test_datasets, test_size)   "
   ]
  },
  {
   "cell_type": "code",
   "execution_count": 59,
   "metadata": {
    "collapsed": false
   },
   "outputs": [
    {
     "name": "stdout",
     "output_type": "stream",
     "text": [
      "('Training:', (200000, 28, 28), (200000,))\n",
      "('Validation:', (10000, 28, 28), (10000,))\n",
      "('Testing:', (10000, 28, 28), (10000,))\n"
     ]
    }
   ],
   "source": [
    "print('Training:', train_dataset.shape, train_labels.shape)\n",
    "print('Validation:', valid_dataset.shape, valid_labels.shape)\n",
    "print('Testing:', test_dataset.shape, test_labels.shape) "
   ]
  },
  {
   "cell_type": "markdown",
   "metadata": {},
   "source": [
    "# Shuffle Data\n",
    "Next, we'll randomize the data. It's important to have the labels well shuffled for the training and test distributions to match.\n",
    "Convince yourself that the data is still good after shuffling!\n"
   ]
  },
  {
   "cell_type": "code",
   "execution_count": 73,
   "metadata": {
    "collapsed": true
   },
   "outputs": [],
   "source": [
    "def randomize(dataset, labels):\n",
    "    permutation = np.random.permutation(labels.shape[0])\n",
    "    shuffled_dataset = dataset[permutation, :, :]\n",
    "    shuffled_labels = labels[permutation]\n",
    "    return shuffled_dataset, shuffled_labels\n",
    "\n",
    "train_dataset, train_labels = randomize(train_dataset, train_labels)\n",
    "test_dataset, test_labels = randomize(test_dataset, test_labels)\n",
    "valid_dataset, valid_labels = randomize(valid_dataset, valid_labels)"
   ]
  },
  {
   "cell_type": "code",
   "execution_count": 74,
   "metadata": {
    "collapsed": false
   },
   "outputs": [
    {
     "data": {
      "image/png": "[encoded data removed]",
      "text/plain": [
       "<matplotlib.figure.Figure at 0x7f933a9dcb50>"
      ]
     },
     "metadata": {},
     "output_type": "display_data"
    }
   ],
   "source": [
    "for i in xrange(3):\n",
    "    clear_output(wait=\"Ture\")\n",
    "    plt.imshow(np.hstack((train_dataset[i, :, :], test_dataset[i, :, :], valid_dataset[i, :, :])), cmap = 'gray')\n",
    "    plt.title(\"Train Set      -      Test Set      -      Validation Set\")\n",
    "    plt.axis('off')\n",
    "    plt.show()\n",
    "    time.sleep(0.5)"
   ]
  },
  {
   "cell_type": "markdown",
   "metadata": {},
   "source": [
    "### Save Data for later in a pickle file"
   ]
  },
  {
   "cell_type": "code",
   "execution_count": 75,
   "metadata": {
    "collapsed": true
   },
   "outputs": [],
   "source": [
    "pickle_file = 'notMNIST.pickle'\n",
    "\n",
    "try:\n",
    "  f = open(pickle_file, 'wb')\n",
    "  save = {\n",
    "    'train_dataset': train_dataset,\n",
    "    'train_labels': train_labels,\n",
    "    'valid_dataset': valid_dataset,\n",
    "    'valid_labels': valid_labels,\n",
    "    'test_dataset': test_dataset,\n",
    "    'test_labels': test_labels,\n",
    "    }\n",
    "  pickle.dump(save, f, pickle.HIGHEST_PROTOCOL)\n",
    "  f.close()\n",
    "except Exception as e:\n",
    "  print('Unable to save data to', pickle_file, ':', e)\n",
    "  raise"
   ]
  },
  {
   "cell_type": "code",
   "execution_count": 6,
   "metadata": {
    "collapsed": false
   },
   "outputs": [
    {
     "name": "stdout",
     "output_type": "stream",
     "text": [
      "Compresses pickle size: 658MB\n"
     ]
    }
   ],
   "source": [
    "pickle_file = 'notMNIST.pickle'\n",
    "statinfo = os.stat(pickle_file)\n",
    "print \"Compresses pickle size: \" + str(statinfo.st_size // 1048576) + \"MB\" "
   ]
  },
  {
   "cell_type": "markdown",
   "metadata": {},
   "source": [
    "## Overlapping Examples\n",
    "By construction, this dataset might contain a lot of overlapping samples, including training data that's also contained in the validation and test set! Overlap between training and test can skew the results if you expect to use your model in an environment where there is never an overlap, but are actually ok if you expect to see training samples recur when you use it. Measure how much overlap there is between training, validation and test samples.\n",
    "\n",
    "Optional questions:\n",
    "- What about near duplicates between datasets? (images that are almost identical)\n",
    "- Create a sanitized validation and test set, and compare your accuracy on those in subsequent assignments."
   ]
  },
  {
   "cell_type": "code",
   "execution_count": 66,
   "metadata": {
    "collapsed": false
   },
   "outputs": [
    {
     "name": "stdout",
     "output_type": "stream",
     "text": [
      "Examples in train dataset: 200.0 thousand\n",
      "Examples in valid dataset: 10.0 thousand\n",
      "Examples in test dataset: 10.0 thousand\n"
     ]
    }
   ],
   "source": [
    "pickle_file = 'notMNIST.pickle'\n",
    "\n",
    "dic_file = pickle.load(open(pickle_file, 'rb'))\n",
    "train_dataset = dic_file[\"train_dataset\"]\n",
    "train_labels = dic_file[\"train_labels\"]\n",
    "valid_dataset = dic_file[\"valid_dataset\"]\n",
    "valid_labels = dic_file[\"valid_labels\"]\n",
    "test_dataset = dic_file[\"test_dataset\"]\n",
    "test_labels = dic_file[\"test_labels\"]\n",
    "\n",
    "print \"Examples in train dataset: \" + str(len(train_labels) / float(1000)) + \" thousand\"\n",
    "print \"Examples in valid dataset: \" + str(len(valid_labels) / float(1000)) + \" thousand\"\n",
    "print \"Examples in test dataset: \" + str(len(test_labels) / float(1000)) + \" thousand\""
   ]
  },
  {
   "cell_type": "markdown",
   "metadata": {},
   "source": [
    "### Clean Datasets\n",
    "We will check for repetitions within each datasets first. And remove the duplicates."
   ]
  },
  {
   "cell_type": "code",
   "execution_count": 80,
   "metadata": {
    "collapsed": false
   },
   "outputs": [],
   "source": [
    "def are_equal(img1, img2):\n",
    "    row = img1.shape[0] / 2\n",
    "    if np.array_equal(img1[row, :], img2[row, :]):\n",
    "        return np.array_equal(img1, img2)\n",
    "    else:\n",
    "        return False\n",
    "\n",
    "def find_duplicates(labels1, dataset1, labels2=None, dataset2=None):\n",
    "    classes = np.unique(labels1)\n",
    "    duplicate_index = []\n",
    "    try:\n",
    "        if not labels2:\n",
    "            for _class in classes:\n",
    "                num_duplicates = 0\n",
    "                index = np.where(labels1 == _class)[0]\n",
    "                combinations = list(it.combinations(range(len(index)), 2))\n",
    "                print \"Comparisons to make for this class: \" + str(len(combinations) / float(1000000)) + \" million\"\n",
    "                for i,j in combinations:\n",
    "                    img1 = dataset1[i]\n",
    "                    img2 = dataset1[j]\n",
    "                    if are_equal(img1, img2) == True:\n",
    "                        duplicate_index.append((i ,j))\n",
    "                        num_duplicates += 1\n",
    "                print \"The number of matches found in class %d is %d\" %(_class, num_duplicates)\n",
    "            print \"Total of matches: %d from a sample size: %d \\n\\n\" %(len(duplicate_index), len(labels1))\n",
    "    \n",
    "    except:\n",
    "        for _class in classes:\n",
    "            num_duplicates = 0\n",
    "            index1 = np.where(labels1 == _class)[0]\n",
    "            index2 = np.where(labels2 == _class)[0]\n",
    "            print \"Comparisons to make for this class: \" + \\\n",
    "                  str(len(index1) * len(index1) / float(1000000) / 2) + \" million\"\n",
    "            for i in index1:\n",
    "                for j in index2:\n",
    "                    if j >= i:\n",
    "                        img1 = dataset1[i]\n",
    "                        img2 = dataset2[j]\n",
    "                        if are_equal(img1, img2) == True:\n",
    "                            duplicate_index.append((i ,j))\n",
    "                            num_duplicates += 1\n",
    "            print \"The number of matches found in class %d is %d\" %(_class, num_duplicates)\n",
    "        print \"Total of matches: %d from a sample size: %d \\n\\n\" %(len(duplicate_index), len(labels1))\n",
    "    return duplicate_index\n",
    "         \n",
    "duplicate_index_valid = find_duplicates(valid_labels, valid_dataset)\n",
    "duplicate_index_test = find_duplicates(test_labels, test_dataset)\n",
    "# duplicate_index_train = find_duplicates(train_labels, train_dataset)"
   ]
  },
  {
   "cell_type": "code",
   "execution_count": 15,
   "metadata": {
    "collapsed": false
   },
   "outputs": [
    {
     "ename": "IndexError",
     "evalue": "list index out of range",
     "output_type": "error",
     "traceback": [
      "\u001b[1;31m---------------------------------------------------------------------------\u001b[0m",
      "\u001b[1;31mIndexError\u001b[0m                                Traceback (most recent call last)",
      "\u001b[1;32m<ipython-input-15-abb0c28faffe>\u001b[0m in \u001b[0;36m<module>\u001b[1;34m()\u001b[0m\n\u001b[0;32m      5\u001b[0m     \u001b[0mplt\u001b[0m\u001b[1;33m.\u001b[0m\u001b[0mshow\u001b[0m\u001b[1;33m(\u001b[0m\u001b[1;33m)\u001b[0m\u001b[1;33m\u001b[0m\u001b[0m\n\u001b[0;32m      6\u001b[0m \u001b[1;33m\u001b[0m\u001b[0m\n\u001b[1;32m----> 7\u001b[1;33m \u001b[0mindex\u001b[0m \u001b[1;33m=\u001b[0m \u001b[0mrandom\u001b[0m\u001b[1;33m.\u001b[0m\u001b[0mchoice\u001b[0m\u001b[1;33m(\u001b[0m\u001b[0mduplicate_index_test\u001b[0m\u001b[1;33m)\u001b[0m\u001b[1;33m\u001b[0m\u001b[0m\n\u001b[0m\u001b[0;32m      8\u001b[0m \u001b[1;32mprint\u001b[0m \u001b[0mindex\u001b[0m\u001b[1;33m\u001b[0m\u001b[0m\n\u001b[0;32m      9\u001b[0m \u001b[0mprint_images\u001b[0m\u001b[1;33m(\u001b[0m\u001b[0mtest_dataset\u001b[0m\u001b[1;33m[\u001b[0m\u001b[0mindex\u001b[0m\u001b[1;33m[\u001b[0m\u001b[1;36m0\u001b[0m\u001b[1;33m]\u001b[0m\u001b[1;33m]\u001b[0m\u001b[1;33m,\u001b[0m \u001b[0mtest_dataset\u001b[0m\u001b[1;33m[\u001b[0m\u001b[0mindex\u001b[0m\u001b[1;33m[\u001b[0m\u001b[1;36m1\u001b[0m\u001b[1;33m]\u001b[0m\u001b[1;33m]\u001b[0m\u001b[1;33m)\u001b[0m\u001b[1;33m\u001b[0m\u001b[0m\n",
      "\u001b[1;32m/usr/lib/python2.7/random.pyc\u001b[0m in \u001b[0;36mchoice\u001b[1;34m(self, seq)\u001b[0m\n\u001b[0;32m    271\u001b[0m     \u001b[1;32mdef\u001b[0m \u001b[0mchoice\u001b[0m\u001b[1;33m(\u001b[0m\u001b[0mself\u001b[0m\u001b[1;33m,\u001b[0m \u001b[0mseq\u001b[0m\u001b[1;33m)\u001b[0m\u001b[1;33m:\u001b[0m\u001b[1;33m\u001b[0m\u001b[0m\n\u001b[0;32m    272\u001b[0m         \u001b[1;34m\"\"\"Choose a random element from a non-empty sequence.\"\"\"\u001b[0m\u001b[1;33m\u001b[0m\u001b[0m\n\u001b[1;32m--> 273\u001b[1;33m         \u001b[1;32mreturn\u001b[0m \u001b[0mseq\u001b[0m\u001b[1;33m[\u001b[0m\u001b[0mint\u001b[0m\u001b[1;33m(\u001b[0m\u001b[0mself\u001b[0m\u001b[1;33m.\u001b[0m\u001b[0mrandom\u001b[0m\u001b[1;33m(\u001b[0m\u001b[1;33m)\u001b[0m \u001b[1;33m*\u001b[0m \u001b[0mlen\u001b[0m\u001b[1;33m(\u001b[0m\u001b[0mseq\u001b[0m\u001b[1;33m)\u001b[0m\u001b[1;33m)\u001b[0m\u001b[1;33m]\u001b[0m  \u001b[1;31m# raises IndexError if seq is empty\u001b[0m\u001b[1;33m\u001b[0m\u001b[0m\n\u001b[0m\u001b[0;32m    274\u001b[0m \u001b[1;33m\u001b[0m\u001b[0m\n\u001b[0;32m    275\u001b[0m     \u001b[1;32mdef\u001b[0m \u001b[0mshuffle\u001b[0m\u001b[1;33m(\u001b[0m\u001b[0mself\u001b[0m\u001b[1;33m,\u001b[0m \u001b[0mx\u001b[0m\u001b[1;33m,\u001b[0m \u001b[0mrandom\u001b[0m\u001b[1;33m=\u001b[0m\u001b[0mNone\u001b[0m\u001b[1;33m)\u001b[0m\u001b[1;33m:\u001b[0m\u001b[1;33m\u001b[0m\u001b[0m\n",
      "\u001b[1;31mIndexError\u001b[0m: list index out of range"
     ]
    }
   ],
   "source": [
    "# view duplicated images\n",
    "def print_images(img1, img2):\n",
    "    plt.imshow(np.hstack((img1, img2)), cmap = \"gray\")\n",
    "    plt.axis(\"off\")\n",
    "    plt.show()\n",
    "    \n",
    "index = random.choice(duplicate_index_test)\n",
    "print index\n",
    "print_images(test_dataset[index[0]], test_dataset[index[1]])\n",
    "# matches seem to correspond to black images!!"
   ]
  },
  {
   "cell_type": "markdown",
   "metadata": {},
   "source": [
    "### Remove Black Images"
   ]
  },
  {
   "cell_type": "code",
   "execution_count": 67,
   "metadata": {
    "collapsed": false
   },
   "outputs": [],
   "source": [
    "def remove_solid_color_images(dataset):\n",
    "    rem_index = []\n",
    "    for i in xrange(dataset.shape[0]):\n",
    "        if len(np.unique(dataset[i])) == 1:\n",
    "            rem_index.append(i)\n",
    "    return rem_index\n",
    "    \n",
    "rem_index_valid = remove_solid_color_images(valid_dataset)\n",
    "valid_labels = np.delete(valid_labels, rem_index_valid, 0)\n",
    "valid_dataset = np.delete(valid_dataset, rem_index_valid, 0)\n",
    "\n",
    "rem_index_test = remove_solid_color_images(test_dataset)\n",
    "test_labels = np.delete(test_labels, rem_index_test, 0)\n",
    "test_dataset = np.delete(test_dataset, rem_index_test, 0)\n",
    "\n",
    "rem_index_train = remove_solid_color_images(train_dataset)\n",
    "train_labels = np.delete(train_labels, rem_index_train, 0)\n",
    "train_dataset = np.delete(train_dataset, rem_index_train, 0)"
   ]
  },
  {
   "cell_type": "markdown",
   "metadata": {},
   "source": [
    "### Rerun duplication"
   ]
  },
  {
   "cell_type": "code",
   "execution_count": 48,
   "metadata": {
    "collapsed": false
   },
   "outputs": [
    {
     "name": "stdout",
     "output_type": "stream",
     "text": [
      "Comparisons to make for this class: 0.4995 million\n",
      "The number of matches found in class 0 is 0\n",
      "Comparisons to make for this class: 0.4995 million\n",
      "The number of matches found in class 1 is 0\n",
      "Comparisons to make for this class: 0.4995 million\n",
      "The number of matches found in class 2 is 0\n",
      "Comparisons to make for this class: 0.4995 million\n",
      "The number of matches found in class 3 is 0\n",
      "Comparisons to make for this class: 0.4995 million\n",
      "The number of matches found in class 4 is 0\n",
      "Comparisons to make for this class: 0.4995 million\n",
      "The number of matches found in class 5 is 0\n",
      "Comparisons to make for this class: 0.498501 million\n",
      "The number of matches found in class 6 is 0\n",
      "Comparisons to make for this class: 0.4995 million\n",
      "The number of matches found in class 7 is 0\n",
      "Comparisons to make for this class: 0.399171 million\n",
      "The number of matches found in class 8 is 0\n",
      "Comparisons to make for this class: 0.4995 million\n",
      "The number of matches found in class 9 is 0\n",
      "Total of matches: 0 from a sample size: 9893 \n",
      "\n",
      "\n",
      "Comparisons to make for this class: 0.4995 million\n",
      "The number of matches found in class 0 is 0\n",
      "Comparisons to make for this class: 0.4995 million\n",
      "The number of matches found in class 1 is 0\n",
      "Comparisons to make for this class: 0.4995 million\n",
      "The number of matches found in class 2 is 0\n",
      "Comparisons to make for this class: 0.4995 million\n",
      "The number of matches found in class 3 is 0\n",
      "Comparisons to make for this class: 0.4995 million\n",
      "The number of matches found in class 4 is 0\n",
      "Comparisons to make for this class: 0.4995 million\n",
      "The number of matches found in class 5 is 0\n",
      "Comparisons to make for this class: 0.4995 million\n",
      "The number of matches found in class 6 is 0\n",
      "Comparisons to make for this class: 0.4995 million\n",
      "The number of matches found in class 7 is 0\n",
      "Comparisons to make for this class: 0.364231 million\n",
      "The number of matches found in class 8 is 0\n",
      "Comparisons to make for this class: 0.4995 million\n",
      "The number of matches found in class 9 is 0\n",
      "Total of matches: 0 from a sample size: 9854 \n",
      "\n",
      "\n"
     ]
    }
   ],
   "source": [
    "duplicate_index_valid = find_duplicates(valid_labels, valid_dataset)\n",
    "duplicate_index_test = find_duplicates(test_labels, test_dataset)\n",
    "# duplicate_index_train = find_duplicates(train_labels, train_dataset)"
   ]
  },
  {
   "cell_type": "markdown",
   "metadata": {},
   "source": [
    "## Read from Clean Data"
   ]
  },
  {
   "cell_type": "code",
   "execution_count": 81,
   "metadata": {
    "collapsed": false
   },
   "outputs": [],
   "source": [
    "pickle_file = 'notMNIST_clean.pickle'\n",
    "\n",
    "try:\n",
    "  f = open(pickle_file, 'wb')\n",
    "  save = {\n",
    "    'train_dataset': train_dataset,\n",
    "    'train_labels': train_labels,\n",
    "    'valid_dataset': valid_dataset,\n",
    "    'valid_labels': valid_labels,\n",
    "    'test_dataset': test_dataset,\n",
    "    'test_labels': test_labels,\n",
    "    }\n",
    "  pickle.dump(save, f, pickle.HIGHEST_PROTOCOL)\n",
    "  f.close()\n",
    "except Exception as e:\n",
    "  print('Unable to save data to', pickle_file, ':', e)\n",
    "  raise"
   ]
  },
  {
   "cell_type": "markdown",
   "metadata": {},
   "source": [
    "## Start from cleaned datasets"
   ]
  },
  {
   "cell_type": "code",
   "execution_count": 82,
   "metadata": {
    "collapsed": false
   },
   "outputs": [
    {
     "name": "stdout",
     "output_type": "stream",
     "text": [
      "Examples in train dataset: 197.876 thousand\n",
      "Examples in valid dataset: 9.893 thousand\n",
      "Examples in test dataset: 9.854 thousand\n"
     ]
    }
   ],
   "source": [
    "pickle_file = 'notMNIST_clean.pickle'\n",
    "\n",
    "dic_file = pickle.load(open(pickle_file, 'rb'))\n",
    "train_dataset = dic_file[\"train_dataset\"]\n",
    "train_labels = dic_file[\"train_labels\"]\n",
    "valid_dataset = dic_file[\"valid_dataset\"]\n",
    "valid_labels = dic_file[\"valid_labels\"]\n",
    "test_dataset = dic_file[\"test_dataset\"]\n",
    "test_labels = dic_file[\"test_labels\"]\n",
    "\n",
    "print \"Examples in train dataset: \" + str(len(train_labels) / float(1000)) + \" thousand\"\n",
    "print \"Examples in valid dataset: \" + str(len(valid_labels) / float(1000)) + \" thousand\"\n",
    "print \"Examples in test dataset: \" + str(len(test_labels) / float(1000)) + \" thousand\""
   ]
  },
  {
   "cell_type": "markdown",
   "metadata": {
    "collapsed": false
   },
   "source": [
    "### Measuring overlap between sets\n"
   ]
  },
  {
   "cell_type": "code",
   "execution_count": 92,
   "metadata": {
    "collapsed": false
   },
   "outputs": [
    {
     "name": "stdout",
     "output_type": "stream",
     "text": [
      "Duplication Between VALID and TRAIN\n",
      "Comparisons to make for this class: 0.5 million\n",
      "The number of matches found in class 0 is 79\n",
      "Comparisons to make for this class: 0.5 million\n"
     ]
    },
    {
     "ename": "KeyboardInterrupt",
     "evalue": "",
     "output_type": "error",
     "traceback": [
      "\u001b[1;31m---------------------------------------------------------------------------\u001b[0m",
      "\u001b[1;31mKeyboardInterrupt\u001b[0m                         Traceback (most recent call last)",
      "\u001b[1;32m<ipython-input-92-5cfe8526b4cd>\u001b[0m in \u001b[0;36m<module>\u001b[1;34m()\u001b[0m\n\u001b[0;32m      3\u001b[0m \u001b[1;33m\u001b[0m\u001b[0m\n\u001b[0;32m      4\u001b[0m \u001b[1;32mprint\u001b[0m \u001b[1;34m\"Duplication Between VALID and TRAIN\"\u001b[0m\u001b[1;33m\u001b[0m\u001b[0m\n\u001b[1;32m----> 5\u001b[1;33m \u001b[0mduplicate_index2\u001b[0m \u001b[1;33m=\u001b[0m \u001b[0mfind_duplicates\u001b[0m\u001b[1;33m(\u001b[0m\u001b[0mvalid_labels\u001b[0m\u001b[1;33m,\u001b[0m \u001b[0mvalid_dataset\u001b[0m\u001b[1;33m,\u001b[0m \u001b[0mtrain_labels\u001b[0m\u001b[1;33m,\u001b[0m \u001b[0mtrain_dataset\u001b[0m\u001b[1;33m)\u001b[0m\u001b[1;33m\u001b[0m\u001b[0m\n\u001b[0m\u001b[0;32m      6\u001b[0m \u001b[1;33m\u001b[0m\u001b[0m\n\u001b[0;32m      7\u001b[0m \u001b[1;31m# print \"Duplication Between TRAIN and TEST\"\u001b[0m\u001b[1;33m\u001b[0m\u001b[1;33m\u001b[0m\u001b[0m\n",
      "\u001b[1;32m<ipython-input-80-9458e88c53c1>\u001b[0m in \u001b[0;36mfind_duplicates\u001b[1;34m(labels1, dataset1, labels2, dataset2)\u001b[0m\n\u001b[0;32m     36\u001b[0m                         \u001b[0mimg1\u001b[0m \u001b[1;33m=\u001b[0m \u001b[0mdataset1\u001b[0m\u001b[1;33m[\u001b[0m\u001b[0mi\u001b[0m\u001b[1;33m]\u001b[0m\u001b[1;33m\u001b[0m\u001b[0m\n\u001b[0;32m     37\u001b[0m                         \u001b[0mimg2\u001b[0m \u001b[1;33m=\u001b[0m \u001b[0mdataset2\u001b[0m\u001b[1;33m[\u001b[0m\u001b[0mj\u001b[0m\u001b[1;33m]\u001b[0m\u001b[1;33m\u001b[0m\u001b[0m\n\u001b[1;32m---> 38\u001b[1;33m                         \u001b[1;32mif\u001b[0m \u001b[0mare_equal\u001b[0m\u001b[1;33m(\u001b[0m\u001b[0mimg1\u001b[0m\u001b[1;33m,\u001b[0m \u001b[0mimg2\u001b[0m\u001b[1;33m)\u001b[0m \u001b[1;33m==\u001b[0m \u001b[0mTrue\u001b[0m\u001b[1;33m:\u001b[0m\u001b[1;33m\u001b[0m\u001b[0m\n\u001b[0m\u001b[0;32m     39\u001b[0m                             \u001b[0mduplicate_index\u001b[0m\u001b[1;33m.\u001b[0m\u001b[0mappend\u001b[0m\u001b[1;33m(\u001b[0m\u001b[1;33m(\u001b[0m\u001b[0mi\u001b[0m \u001b[1;33m,\u001b[0m\u001b[0mj\u001b[0m\u001b[1;33m)\u001b[0m\u001b[1;33m)\u001b[0m\u001b[1;33m\u001b[0m\u001b[0m\n\u001b[0;32m     40\u001b[0m                             \u001b[0mnum_duplicates\u001b[0m \u001b[1;33m+=\u001b[0m \u001b[1;36m1\u001b[0m\u001b[1;33m\u001b[0m\u001b[0m\n",
      "\u001b[1;32m<ipython-input-80-9458e88c53c1>\u001b[0m in \u001b[0;36mare_equal\u001b[1;34m(img1, img2)\u001b[0m\n\u001b[0;32m      1\u001b[0m \u001b[1;32mdef\u001b[0m \u001b[0mare_equal\u001b[0m\u001b[1;33m(\u001b[0m\u001b[0mimg1\u001b[0m\u001b[1;33m,\u001b[0m \u001b[0mimg2\u001b[0m\u001b[1;33m)\u001b[0m\u001b[1;33m:\u001b[0m\u001b[1;33m\u001b[0m\u001b[0m\n\u001b[0;32m      2\u001b[0m     \u001b[0mrow\u001b[0m \u001b[1;33m=\u001b[0m \u001b[0mimg1\u001b[0m\u001b[1;33m.\u001b[0m\u001b[0mshape\u001b[0m\u001b[1;33m[\u001b[0m\u001b[1;36m0\u001b[0m\u001b[1;33m]\u001b[0m \u001b[1;33m/\u001b[0m \u001b[1;36m2\u001b[0m\u001b[1;33m\u001b[0m\u001b[0m\n\u001b[1;32m----> 3\u001b[1;33m     \u001b[1;32mif\u001b[0m \u001b[0mnp\u001b[0m\u001b[1;33m.\u001b[0m\u001b[0marray_equal\u001b[0m\u001b[1;33m(\u001b[0m\u001b[0mimg1\u001b[0m\u001b[1;33m[\u001b[0m\u001b[0mrow\u001b[0m\u001b[1;33m,\u001b[0m \u001b[1;33m:\u001b[0m\u001b[1;33m]\u001b[0m\u001b[1;33m,\u001b[0m \u001b[0mimg2\u001b[0m\u001b[1;33m[\u001b[0m\u001b[0mrow\u001b[0m\u001b[1;33m,\u001b[0m \u001b[1;33m:\u001b[0m\u001b[1;33m]\u001b[0m\u001b[1;33m)\u001b[0m\u001b[1;33m:\u001b[0m\u001b[1;33m\u001b[0m\u001b[0m\n\u001b[0m\u001b[0;32m      4\u001b[0m         \u001b[1;32mreturn\u001b[0m \u001b[0mnp\u001b[0m\u001b[1;33m.\u001b[0m\u001b[0marray_equal\u001b[0m\u001b[1;33m(\u001b[0m\u001b[0mimg1\u001b[0m\u001b[1;33m,\u001b[0m \u001b[0mimg2\u001b[0m\u001b[1;33m)\u001b[0m\u001b[1;33m\u001b[0m\u001b[0m\n\u001b[0;32m      5\u001b[0m     \u001b[1;32melse\u001b[0m\u001b[1;33m:\u001b[0m\u001b[1;33m\u001b[0m\u001b[0m\n",
      "\u001b[1;32m/usr/local/lib/python2.7/dist-packages/numpy/core/numeric.pyc\u001b[0m in \u001b[0;36marray_equal\u001b[1;34m(a1, a2)\u001b[0m\n\u001b[0;32m   2415\u001b[0m     \u001b[1;32mif\u001b[0m \u001b[0ma1\u001b[0m\u001b[1;33m.\u001b[0m\u001b[0mshape\u001b[0m \u001b[1;33m!=\u001b[0m \u001b[0ma2\u001b[0m\u001b[1;33m.\u001b[0m\u001b[0mshape\u001b[0m\u001b[1;33m:\u001b[0m\u001b[1;33m\u001b[0m\u001b[0m\n\u001b[0;32m   2416\u001b[0m         \u001b[1;32mreturn\u001b[0m \u001b[0mFalse\u001b[0m\u001b[1;33m\u001b[0m\u001b[0m\n\u001b[1;32m-> 2417\u001b[1;33m     \u001b[1;32mreturn\u001b[0m \u001b[0mbool\u001b[0m\u001b[1;33m(\u001b[0m\u001b[0masarray\u001b[0m\u001b[1;33m(\u001b[0m\u001b[0ma1\u001b[0m \u001b[1;33m==\u001b[0m \u001b[0ma2\u001b[0m\u001b[1;33m)\u001b[0m\u001b[1;33m.\u001b[0m\u001b[0mall\u001b[0m\u001b[1;33m(\u001b[0m\u001b[1;33m)\u001b[0m\u001b[1;33m)\u001b[0m\u001b[1;33m\u001b[0m\u001b[0m\n\u001b[0m\u001b[0;32m   2418\u001b[0m \u001b[1;33m\u001b[0m\u001b[0m\n\u001b[0;32m   2419\u001b[0m \u001b[1;32mdef\u001b[0m \u001b[0marray_equiv\u001b[0m\u001b[1;33m(\u001b[0m\u001b[0ma1\u001b[0m\u001b[1;33m,\u001b[0m \u001b[0ma2\u001b[0m\u001b[1;33m)\u001b[0m\u001b[1;33m:\u001b[0m\u001b[1;33m\u001b[0m\u001b[0m\n",
      "\u001b[1;32m/usr/local/lib/python2.7/dist-packages/numpy/core/_methods.pyc\u001b[0m in \u001b[0;36m_all\u001b[1;34m(a, axis, dtype, out, keepdims)\u001b[0m\n\u001b[0;32m     39\u001b[0m \u001b[1;33m\u001b[0m\u001b[0m\n\u001b[0;32m     40\u001b[0m \u001b[1;32mdef\u001b[0m \u001b[0m_all\u001b[0m\u001b[1;33m(\u001b[0m\u001b[0ma\u001b[0m\u001b[1;33m,\u001b[0m \u001b[0maxis\u001b[0m\u001b[1;33m=\u001b[0m\u001b[0mNone\u001b[0m\u001b[1;33m,\u001b[0m \u001b[0mdtype\u001b[0m\u001b[1;33m=\u001b[0m\u001b[0mNone\u001b[0m\u001b[1;33m,\u001b[0m \u001b[0mout\u001b[0m\u001b[1;33m=\u001b[0m\u001b[0mNone\u001b[0m\u001b[1;33m,\u001b[0m \u001b[0mkeepdims\u001b[0m\u001b[1;33m=\u001b[0m\u001b[0mFalse\u001b[0m\u001b[1;33m)\u001b[0m\u001b[1;33m:\u001b[0m\u001b[1;33m\u001b[0m\u001b[0m\n\u001b[1;32m---> 41\u001b[1;33m     \u001b[1;32mreturn\u001b[0m \u001b[0mumr_all\u001b[0m\u001b[1;33m(\u001b[0m\u001b[0ma\u001b[0m\u001b[1;33m,\u001b[0m \u001b[0maxis\u001b[0m\u001b[1;33m,\u001b[0m \u001b[0mdtype\u001b[0m\u001b[1;33m,\u001b[0m \u001b[0mout\u001b[0m\u001b[1;33m,\u001b[0m \u001b[0mkeepdims\u001b[0m\u001b[1;33m)\u001b[0m\u001b[1;33m\u001b[0m\u001b[0m\n\u001b[0m\u001b[0;32m     42\u001b[0m \u001b[1;33m\u001b[0m\u001b[0m\n\u001b[0;32m     43\u001b[0m \u001b[1;32mdef\u001b[0m \u001b[0m_count_reduce_items\u001b[0m\u001b[1;33m(\u001b[0m\u001b[0marr\u001b[0m\u001b[1;33m,\u001b[0m \u001b[0maxis\u001b[0m\u001b[1;33m)\u001b[0m\u001b[1;33m:\u001b[0m\u001b[1;33m\u001b[0m\u001b[0m\n",
      "\u001b[1;31mKeyboardInterrupt\u001b[0m: "
     ]
    }
   ],
   "source": [
    "# print \"Duplication Between VALID and TEST\"\n",
    "# duplicate_index1 = find_duplicates(valid_labels, valid_dataset, test_labels, test_dataset)\n",
    "\n",
    "# print \"Duplication Between VALID and TRAIN\"\n",
    "# duplicate_index2 = find_duplicates(valid_labels, valid_dataset, train_labels, train_dataset)\n",
    "\n",
    "# print \"Duplication Between TRAIN and TEST\"\n",
    "# duplicate_index3 = find_duplicates(train_labels, train_dataset, test_labels, test_dataset)"
   ]
  },
  {
   "cell_type": "code",
   "execution_count": 91,
   "metadata": {
    "collapsed": false
   },
   "outputs": [
    {
     "name": "stdout",
     "output_type": "stream",
     "text": [
      "(1096, 5445)\n"
     ]
    },
    {
     "data": {
      "image/png": "[encoded data removed]",
      "text/plain": [
       "<matplotlib.figure.Figure at 0x7f6e5215c9d0>"
      ]
     },
     "metadata": {},
     "output_type": "display_data"
    }
   ],
   "source": [
    "index = random.choice(duplicate_index1)\n",
    "print index\n",
    "print_images(valid_dataset[index[0]], test_dataset[index[1]])\n",
    "\n",
    "# index = random.choice(duplicate_index2)\n",
    "# print index\n",
    "# print_images(valid_dataset[index[0]], train_dataset[index[1]])\n",
    "\n",
    "# index = random.choice(duplicate_index3)\n",
    "# print index\n",
    "# print_images(train_dataset[index[0]], test_dataset[index[1]])"
   ]
  },
  {
   "cell_type": "markdown",
   "metadata": {},
   "source": [
    "### LogisticRegression model\n",
    "Let's get an idea of what an off-the-shelf classifier can give you on this data. It's always good to check that there is something to learn, and that it's a problem that is not so trivial that a canned solution solves it.\n",
    "\n",
    "\n",
    "Train a simple model on this data using 50, 100, 1000 and 5000 training samples. \n",
    "\n",
    "Hint: you can use the LogisticRegression model from sklearn.linear_model.\n",
    "Optional question: train an off-the-shelf model on all the data!\n"
   ]
  },
  {
   "cell_type": "code",
   "execution_count": 93,
   "metadata": {
    "collapsed": false
   },
   "outputs": [
    {
     "name": "stdout",
     "output_type": "stream",
     "text": [
      "Examples in train dataset: 197.876 thousand\n",
      "Examples in valid dataset: 9.893 thousand\n",
      "Examples in test dataset: 9.854 thousand\n"
     ]
    }
   ],
   "source": [
    "pickle_file = 'notMNIST_clean.pickle'\n",
    "\n",
    "dic_file = pickle.load(open(pickle_file, 'rb'))\n",
    "train_dataset = dic_file[\"train_dataset\"]\n",
    "train_labels = dic_file[\"train_labels\"]\n",
    "valid_dataset = dic_file[\"valid_dataset\"]\n",
    "valid_labels = dic_file[\"valid_labels\"]\n",
    "test_dataset = dic_file[\"test_dataset\"]\n",
    "test_labels = dic_file[\"test_labels\"]\n",
    "\n",
    "print \"Examples in train dataset: \" + str(len(train_labels) / float(1000)) + \" thousand\"\n",
    "print \"Examples in valid dataset: \" + str(len(valid_labels) / float(1000)) + \" thousand\"\n",
    "print \"Examples in test dataset: \" + str(len(test_labels) / float(1000)) + \" thousand\""
   ]
  },
  {
   "cell_type": "code",
   "execution_count": 115,
   "metadata": {
    "collapsed": false
   },
   "outputs": [],
   "source": [
    "def train_and_validate(num_examples):\n",
    "    # flatten datasets\n",
    "    flat_train = [x.flatten() for x in train_dataset[:num_examples]]\n",
    "    flat_valid = [x.flatten() for x in valid_dataset[:num_examples]]\n",
    "    model = LogisticRegressionCV().fit(flat_train, train_labels[:num_examples])\n",
    "    score = cross_val_score(model, flat_valid, valid_labels[:num_examples]).mean()\n",
    "    return score"
   ]
  },
  {
   "cell_type": "code",
   "execution_count": 121,
   "metadata": {
    "collapsed": false
   },
   "outputs": [
    {
     "name": "stdout",
     "output_type": "stream",
     "text": [
      "Cross Validation Score\n",
      "\n",
      "CPU times: user 7.03 s, sys: 0 ns, total: 7.03 s\n",
      "Wall time: 7.03 s\n",
      "Samples: 50 ---> Score: 0.445833\n",
      "CPU times: user 9.1 s, sys: 0 ns, total: 9.1 s\n",
      "Wall time: 9.11 s\n",
      "Samples: 100 ---> Score: 0.587989\n",
      "CPU times: user 1min 2s, sys: 56 ms, total: 1min 2s\n",
      "Wall time: 1min 2s\n",
      "Samples: 1000 ---> Score: 0.781909\n"
     ]
    }
   ],
   "source": [
    "training_sizes = [50, 100, 1000, 5000]\n",
    "print \"Cross Validation Score\\n\"\n",
    "for size in training_sizes:\n",
    "    %time score = train_and_validate(size)\n",
    "    print \"Samples: %d ---> Score: %f\" %(size, score)"
   ]
  }
 ],
 "metadata": {
  "kernelspec": {
   "display_name": "Python 2",
   "language": "python",
   "name": "python2"
  },
  "language_info": {
   "codemirror_mode": {
    "name": "ipython",
    "version": 2
   },
   "file_extension": ".py",
   "mimetype": "text/x-python",
   "name": "python",
   "nbconvert_exporter": "python",
   "pygments_lexer": "ipython2",
   "version": "2.7.6"
  }
 },
 "nbformat": 4,
 "nbformat_minor": 0
}
