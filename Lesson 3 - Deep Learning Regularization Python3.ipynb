{
 "cells": [
  {
   "cell_type": "markdown",
   "metadata": {},
   "source": [
    "Goal is to explore regularization techniques"
   ]
  },
  {
   "cell_type": "code",
   "execution_count": 14,
   "metadata": {
    "collapsed": true
   },
   "outputs": [],
   "source": [
    "import numpy as np\n",
    "import tensorflow as tf\n",
    "import matplotlib.pyplot as plt\n",
    "from six.moves import cPickle as pickle\n",
    "%matplotlib inline"
   ]
  },
  {
   "cell_type": "code",
   "execution_count": 41,
   "metadata": {
    "collapsed": false
   },
   "outputs": [
    {
     "name": "stdout",
     "output_type": "stream",
     "text": [
      "Training set (197901, 28, 28) (197901,)\n",
      "Validation set (9876, 28, 28) (9876,)\n",
      "Test set (9857, 28, 28) (9857,)\n"
     ]
    }
   ],
   "source": [
    "# get data\n",
    "pickle_file = 'data/notMNIST_clean_python3.pickle'\n",
    "\n",
    "with open(pickle_file, 'rb') as f:\n",
    "    save = pickle.load(f)\n",
    "    train_dataset = save['train_dataset']\n",
    "    train_labels = save['train_labels']\n",
    "    valid_dataset = save['valid_dataset']\n",
    "    valid_labels = save['valid_labels']\n",
    "    test_dataset = save['test_dataset']\n",
    "    test_labels = save['test_labels']\n",
    "    del save  # hint to help gc free up memory\n",
    "    print('Training set', train_dataset.shape, train_labels.shape)\n",
    "    print('Validation set', valid_dataset.shape, valid_labels.shape)\n",
    "    print('Test set', test_dataset.shape, test_labels.shape)"
   ]
  },
  {
   "cell_type": "markdown",
   "metadata": {},
   "source": [
    "### Reshape Data such that each example is a row"
   ]
  },
  {
   "cell_type": "code",
   "execution_count": 42,
   "metadata": {
    "collapsed": false
   },
   "outputs": [
    {
     "name": "stdout",
     "output_type": "stream",
     "text": [
      "Train Shapes --> Dataset: (197901, 784)   Labels: (197901, 10)\n",
      "Valid Shapes --> Dataset: (9876, 784)   Labels: (9876, 10)\n",
      "Test Shapes  --> Dataset: (9857, 784)   Labels: (9857, 10)\n"
     ]
    }
   ],
   "source": [
    "image_size = 28\n",
    "num_labels = 10\n",
    "\n",
    "def reformat(dataset, labels):\n",
    "    # as.type is not needed as the array is already float32 but just in case\n",
    "    dataset = dataset.reshape((-1, image_size * image_size)).astype(np.float32)\n",
    "    # Map 0 to [1.0, 0.0, 0.0 ...], 1 to [0.0, 1.0, 0.0 ...]\n",
    "    labels = (np.arange(num_labels) == labels[:, None]).astype(np.float32)\n",
    "    return dataset, labels\n",
    "\n",
    "train_dataset, train_labels = reformat(train_dataset, train_labels)\n",
    "valid_dataset, valid_labels = reformat(valid_dataset, valid_labels)\n",
    "test_dataset, test_labels = reformat(test_dataset, test_labels)\n",
    "\n",
    "print(\"Train Shapes --> Dataset: %s   Labels: %s\" %(train_dataset.shape, train_labels.shape))\n",
    "print(\"Valid Shapes --> Dataset: %s   Labels: %s\" %(valid_dataset.shape, valid_labels.shape))\n",
    "print(\"Test Shapes  --> Dataset: %s   Labels: %s\" %(test_dataset.shape, test_labels.shape))"
   ]
  },
  {
   "cell_type": "code",
   "execution_count": 63,
   "metadata": {
    "collapsed": false
   },
   "outputs": [],
   "source": [
    "def accuracy(predictions, labels):\n",
    "    return 100.0 * np.sum(np.argmax(predictions, 1) == np.argmax(labels, 1)) / predictions.shape[0]"
   ]
  },
  {
   "cell_type": "markdown",
   "metadata": {},
   "source": [
    "## L2 Regularization"
   ]
  },
  {
   "cell_type": "markdown",
   "metadata": {},
   "source": [
    "### Logistic Regression Model + SGD"
   ]
  },
  {
   "cell_type": "code",
   "execution_count": 6,
   "metadata": {
    "collapsed": false
   },
   "outputs": [],
   "source": [
    "batch_size = 128\n",
    "\n",
    "graph = tf.Graph()\n",
    "with graph.as_default():\n",
    "    \n",
    "    \"\"\"Input data. For the training data, we use a placeholder that will be fed\n",
    "    at run time with a training minibatch\"\"\"\n",
    "    tf_train_dataset = tf.placeholder(tf.float32, shape = (batch_size, image_size * image_size))\n",
    "    tf_train_labels = tf.placeholder(tf.float32, shape = (batch_size, num_labels))\n",
    "    \n",
    "    tf_valid_dataset = tf.constant(valid_dataset)\n",
    "    tf_test_dataset = tf.constant(test_dataset)\n",
    "    \n",
    "    beta = tf.placeholder(tf.float32)\n",
    "    \n",
    "    \"\"\"    Variables - Weights\n",
    "    \n",
    "    These are the parameters that we are going to be training.\n",
    "    Weights are initiallized randomly and the biases to zero\n",
    "    \"\"\"\n",
    "    weights = tf.Variable(tf.truncated_normal([image_size * image_size, num_labels]))\n",
    "    biases = tf.Variable(tf.zeros([num_labels]))\n",
    "    \n",
    "    \"\"\"Training Computation\n",
    "  \n",
    "    We multiply the inputs with the weight matrix, and add biases. \n",
    "    We compute then calculate the softmax and cross-entropy (it's one \n",
    "    operation in TensorFlow, because it's very common, and it can be optimized). \n",
    "    We take the average of this cross-entropy across all training examples: that's our loss.\n",
    "    \"\"\"\n",
    "    logits = tf.matmul(tf_train_dataset, weights) + biases\n",
    "    loss = tf.reduce_mean(tf.nn.softmax_cross_entropy_with_logits(logits, tf_train_labels)) + \\\n",
    "           beta * tf.nn.l2_loss(weights)\n",
    "    \n",
    "    \"\"\"Optimizer\n",
    "    We now find the minimum of this loss using gradient descent\n",
    "    \"\"\"\n",
    "    optimizer = tf.train.GradientDescentOptimizer(0.5).minimize(loss)\n",
    "    \n",
    "    \"\"\"Predictions for the training, validation and test data.\n",
    "    \n",
    "    These are not part of training, but merely here so that we can report\n",
    "    accuracy figures as we train\n",
    "    \"\"\"\n",
    "    train_prediction = tf.nn.softmax(logits)\n",
    "    valid_prediction = tf.nn.softmax(tf.matmul(tf_valid_dataset, weights) + biases)\n",
    "    test_prediction = tf.nn.softmax(tf.matmul(tf_test_dataset, weights) + biases)"
   ]
  },
  {
   "cell_type": "code",
   "execution_count": 7,
   "metadata": {
    "collapsed": false
   },
   "outputs": [
    {
     "name": "stdout",
     "output_type": "stream",
     "text": [
      "Regularization Parameter: 0.000\tTest accuracy: 85.6%\n",
      "Regularization Parameter: 0.000\tTest accuracy: 85.6%\n",
      "Regularization Parameter: 0.000\tTest accuracy: 85.9%\n",
      "Regularization Parameter: 0.000\tTest accuracy: 86.3%\n",
      "Regularization Parameter: 0.000\tTest accuracy: 87.3%\n",
      "Regularization Parameter: 0.001\tTest accuracy: 88.7%\n",
      "Regularization Parameter: 0.003\tTest accuracy: 88.6%\n",
      "Regularization Parameter: 0.010\tTest accuracy: 87.9%\n",
      "CPU times: user 1min 2s, sys: 20.4 s, total: 1min 22s\n",
      "Wall time: 40.7 s\n"
     ]
    }
   ],
   "source": [
    "%%time\n",
    "num_steps = 3001\n",
    "regularization_parameters = np.array([0, .00001, .00003, .0001, .0003, .001, .003, .01]).astype(np.float32)\n",
    "acc = []\n",
    "\n",
    "for reg_param in regularization_parameters:\n",
    "    with tf.Session(graph=graph) as session:\n",
    "        tf.initialize_all_variables().run()\n",
    "        for step in range(num_steps):\n",
    "\n",
    "            \"\"\"This offset is an integer of the batch size, Such that \n",
    "            we are taking the batches not in the order they are presented.\"\"\"\n",
    "            offset = (step * batch_size) % (train_labels.shape[0] - batch_size)\n",
    "\n",
    "            # Generate a minibatch.\n",
    "            batch_data = train_dataset[offset:(offset + batch_size)]\n",
    "            batch_labels = train_labels[offset:(offset + batch_size)]\n",
    "\n",
    "            \"\"\"Prepare a dictionary telling the session where to feed the minibatch.\n",
    "            The key of the dictionary is the placeholder node of the graph to be fed,\n",
    "            and the value is the numpy array to feed to it.\"\"\"\n",
    "            feed_dict = {tf_train_dataset : batch_data, tf_train_labels : batch_labels, beta : reg_param}\n",
    "\n",
    "            # Perform calculations\n",
    "            _, l, predictions = session.run([optimizer, loss, train_prediction], feed_dict = feed_dict)\n",
    "\n",
    "#             # Give feedback every 500 steps\n",
    "#             if step % 500 == 0:\n",
    "#                 print(\"Minibatch loss at step %d: %f\" % (step, l))\n",
    "#                 print(\"Minibatch accuracy: \\t%.1f%%\" % accuracy(predictions, batch_labels))\n",
    "#                 print(\"Validation accuracy: \\t%.1f%%\" % accuracy(valid_prediction.eval(), valid_labels))\n",
    "        acc.append(accuracy(test_prediction.eval(), test_labels))\n",
    "        print(\"Regularization Parameter: %.3f\\tTest accuracy: %.1f%%\" %(reg_param, acc[-1]))"
   ]
  },
  {
   "cell_type": "code",
   "execution_count": 65,
   "metadata": {
    "collapsed": false
   },
   "outputs": [
    {
     "data": {
      "text/plain": [
       "[<matplotlib.lines.Line2D at 0x7fc83413a080>]"
      ]
     },
     "execution_count": 65,
     "metadata": {},
     "output_type": "execute_result"
    },
    {
     "data": {
      "image/png": "[encoded data removed]",
      "text/plain": [
       "<matplotlib.figure.Figure at 0x7fc823fa9e48>"
      ]
     },
     "metadata": {},
     "output_type": "display_data"
    }
   ],
   "source": [
    "plt.plot(regularization_parameters, acc)"
   ]
  },
  {
   "cell_type": "markdown",
   "metadata": {},
   "source": [
    "### Neural Network Model + SGD"
   ]
  },
  {
   "cell_type": "code",
   "execution_count": 38,
   "metadata": {
    "collapsed": false
   },
   "outputs": [],
   "source": [
    "batch_size = 128\n",
    "hidden_layer_nodes = 1024\n",
    "\n",
    "graph = tf.Graph()\n",
    "with graph.as_default():\n",
    "    \"\"\"Input data. For the training data, we use a placeholder that will be fed\n",
    "    at run time with a training minibatch\"\"\"\n",
    "    tf_train_dataset = tf.placeholder(tf.float32, shape = (batch_size, image_size * image_size))\n",
    "    tf_train_labels = tf.placeholder(tf.float32, shape = (batch_size, num_labels))\n",
    "    \n",
    "    tf_valid_dataset = tf.constant(valid_dataset)\n",
    "    tf_test_dataset = tf.constant(test_dataset)\n",
    "    \n",
    "    beta = tf.placeholder(tf.float32)\n",
    "    \n",
    "    \"\"\"    Variables - Weights\n",
    "    \n",
    "    These are the parameters that we are going to be training.\n",
    "    Weights are initiallized randomly and the biases to zero\n",
    "    \"\"\"\n",
    "    weights1 = tf.Variable(tf.truncated_normal([image_size * image_size, hidden_layer_nodes]))\n",
    "    biases1 = tf.Variable(tf.zeros([hidden_layer_nodes]))\n",
    "    \n",
    "    weights2 = tf.Variable(tf.truncated_normal([hidden_layer_nodes, num_labels]))\n",
    "    biases2 = tf.Variable(tf.zeros([num_labels]))\n",
    "    \n",
    "    \"\"\"Training Computation\n",
    "  \n",
    "    We multiply the inputs with the weight matrix, and add biases. \n",
    "    We compute then calculate the softmax and cross-entropy (it's one \n",
    "    operation in TensorFlow, because it's very common, and it can be optimized). \n",
    "    We take the average of this cross-entropy across all training examples: that's our loss.\n",
    "    \"\"\"\n",
    "    hidden = tf.nn.relu(tf.matmul(tf_train_dataset, weights1) + biases1)\n",
    "    logits = tf.matmul(hidden, weights2) + biases2\n",
    "    loss = tf.reduce_mean(tf.nn.softmax_cross_entropy_with_logits(logits, tf_train_labels))+ \\\n",
    "           beta * tf.nn.l2_loss(weights1) + beta * tf.nn.l2_loss(weights2)\n",
    "    \n",
    "    \"\"\"Optimizer\n",
    "    We now find the minimum of this loss using gradient descent\n",
    "    \"\"\"\n",
    "    optimizer = tf.train.GradientDescentOptimizer(0.5).minimize(loss)\n",
    "    \n",
    "    \"\"\"Predictions for the training, validation and test data.\n",
    "    \n",
    "    These are not part of training, but merely here so that we can report\n",
    "    accuracy figures as we train\n",
    "    \"\"\"\n",
    "    train_prediction = tf.nn.softmax(logits)\n",
    "    \n",
    "    hidden_valid = tf.nn.relu(tf.matmul(tf_valid_dataset, weights1) + biases1)\n",
    "    valid_prediction = tf.nn.softmax(tf.matmul(hidden_valid, weights2) + biases2)\n",
    "    \n",
    "    hidden_test = tf.nn.relu(tf.matmul(tf_test_dataset, weights1) + biases1)\n",
    "    test_prediction = tf.nn.softmax(tf.matmul(hidden_test, weights2) + biases2)"
   ]
  },
  {
   "cell_type": "code",
   "execution_count": 67,
   "metadata": {
    "collapsed": false
   },
   "outputs": [
    {
     "name": "stdout",
     "output_type": "stream",
     "text": [
      "Regularization Parameter: 0.000\tTest accuracy: 88.9%\n",
      "Regularization Parameter: 0.000\tTest accuracy: 88.7%\n",
      "Regularization Parameter: 0.000\tTest accuracy: 88.4%\n",
      "Regularization Parameter: 0.000\tTest accuracy: 88.5%\n",
      "Regularization Parameter: 0.000\tTest accuracy: 89.2%\n",
      "Regularization Parameter: 0.001\tTest accuracy: 92.9%\n",
      "Regularization Parameter: 0.003\tTest accuracy: 92.5%\n",
      "Regularization Parameter: 0.010\tTest accuracy: 89.9%\n",
      "CPU times: user 29min 45s, sys: 2min 19s, total: 32min 5s\n",
      "Wall time: 11min 28s\n"
     ]
    }
   ],
   "source": [
    "%%time\n",
    "num_steps = 3001\n",
    "regularization_parameters = np.array([0, .00001, .00003, .0001, .0003, .001, .003, .01]).astype(np.float32)\n",
    "acc = []\n",
    "\n",
    "for reg_param in regularization_parameters:\n",
    "    with tf.Session(graph=graph) as session:\n",
    "        tf.initialize_all_variables().run()\n",
    "        for step in range(num_steps):\n",
    "\n",
    "            \"\"\"This offset is an integer of the batch size, Such that \n",
    "            we are taking the batches not in the order they are presented.\"\"\"\n",
    "            offset = (step * batch_size) % (train_labels.shape[0] - batch_size)\n",
    "\n",
    "            # Generate a minibatch.\n",
    "            batch_data = train_dataset[offset:(offset + batch_size)]\n",
    "            batch_labels = train_labels[offset:(offset + batch_size)]\n",
    "\n",
    "            \"\"\"Prepare a dictionary telling the session where to feed the minibatch.\n",
    "            The key of the dictionary is the placeholder node of the graph to be fed,\n",
    "            and the value is the numpy array to feed to it.\"\"\"\n",
    "            feed_dict = {tf_train_dataset : batch_data, tf_train_labels : batch_labels, beta : reg_param}\n",
    "\n",
    "            # Perform calculations\n",
    "            _, l, predictions = session.run([optimizer, loss, train_prediction], feed_dict = feed_dict)\n",
    "\n",
    "#             # Give feedback every 500 steps\n",
    "#             if step % 500 == 0:\n",
    "#                 print(\"Minibatch loss at step %d: %f\" % (step, l))\n",
    "#                 print(\"Minibatch accuracy: \\t%.1f%%\" % accuracy(predictions, batch_labels))\n",
    "#                 print(\"Validation accuracy: \\t%.1f%%\" % accuracy(valid_prediction.eval(), valid_labels))\n",
    "        acc.append(accuracy(test_prediction.eval(), test_labels))\n",
    "        print(\"Regularization Parameter: %.3f\\tTest accuracy: %.1f%%\" %(reg_param, acc[-1]))"
   ]
  },
  {
   "cell_type": "code",
   "execution_count": 68,
   "metadata": {
    "collapsed": false
   },
   "outputs": [
    {
     "data": {
      "text/plain": [
       "[<matplotlib.lines.Line2D at 0x7fc823d3ffd0>]"
      ]
     },
     "execution_count": 68,
     "metadata": {},
     "output_type": "execute_result"
    },
    {
     "data": {
      "image/png": "[encoded data removed]",
      "text/plain": [
       "<matplotlib.figure.Figure at 0x7fc8341ab908>"
      ]
     },
     "metadata": {},
     "output_type": "display_data"
    }
   ],
   "source": [
    "plt.plot(regularization_parameters, acc)"
   ]
  },
  {
   "cell_type": "markdown",
   "metadata": {},
   "source": [
    "## Extreme Overfitting Case: Neural Network\n",
    "Restrict training data to just a few. No SGD."
   ]
  },
  {
   "cell_type": "code",
   "execution_count": 87,
   "metadata": {
    "collapsed": false
   },
   "outputs": [],
   "source": [
    "train_subset_size = 100\n",
    "hidden_layer_nodes = 1024\n",
    "\n",
    "graph = tf.Graph()\n",
    "with graph.as_default():\n",
    "    \"\"\"Input data. For the training data, we use a placeholder that will be fed\n",
    "    at run time with a training minibatch\"\"\"\n",
    "    tf_train_dataset = tf.constant(train_dataset[:train_subset_size])\n",
    "    tf_train_labels = tf.constant(train_labels[:train_subset_size])\n",
    "    tf_valid_dataset = tf.constant(valid_dataset)\n",
    "    tf_test_dataset = tf.constant(test_dataset)\n",
    "    \n",
    "    \"\"\"    Variables - Weights\n",
    "    \n",
    "    These are the parameters that we are going to be training.\n",
    "    Weights are initiallized randomly and the biases to zero\n",
    "    \"\"\"\n",
    "    weights1 = tf.Variable(tf.truncated_normal([image_size * image_size, hidden_layer_nodes]))\n",
    "    biases1 = tf.Variable(tf.zeros([hidden_layer_nodes]))\n",
    "    \n",
    "    weights2 = tf.Variable(tf.truncated_normal([hidden_layer_nodes, num_labels]))\n",
    "    biases2 = tf.Variable(tf.zeros([num_labels]))\n",
    "    \n",
    "    \"\"\"Training Computation\n",
    "  \n",
    "    We multiply the inputs with the weight matrix, and add biases. \n",
    "    We compute then calculate the softmax and cross-entropy (it's one \n",
    "    operation in TensorFlow, because it's very common, and it can be optimized). \n",
    "    We take the average of this cross-entropy across all training examples: that's our loss.\n",
    "    \"\"\"\n",
    "    hidden = tf.nn.relu(tf.matmul(tf_train_dataset, weights1) + biases1)\n",
    "    logits = tf.matmul(hidden, weights2) + biases2\n",
    "    loss = tf.reduce_mean(tf.nn.softmax_cross_entropy_with_logits(logits, tf_train_labels))\n",
    "    \n",
    "    \"\"\"Optimizer\n",
    "    We now find the minimum of this loss using gradient descent\n",
    "    \"\"\"\n",
    "    optimizer = tf.train.GradientDescentOptimizer(0.5).minimize(loss)\n",
    "    \n",
    "    \"\"\"Predictions for the training, validation and test data.\n",
    "    \n",
    "    These are not part of training, but merely here so that we can report\n",
    "    accuracy figures as we train\n",
    "    \"\"\"\n",
    "    train_prediction = tf.nn.softmax(logits)\n",
    "    \n",
    "    hidden_valid = tf.nn.relu(tf.matmul(tf_valid_dataset, weights1) + biases1)\n",
    "    valid_prediction = tf.nn.softmax(tf.matmul(hidden_valid, weights2) + biases2)\n",
    "    \n",
    "    hidden_test = tf.nn.relu(tf.matmul(tf_test_dataset, weights1) + biases1)\n",
    "    test_prediction = tf.nn.softmax(tf.matmul(hidden_test, weights2) + biases2)"
   ]
  },
  {
   "cell_type": "code",
   "execution_count": 88,
   "metadata": {
    "collapsed": false
   },
   "outputs": [
    {
     "name": "stdout",
     "output_type": "stream",
     "text": [
      "Initialized\n",
      "Loss at step 0: 355.050690\n",
      "Training Accuracy: \t5.0%\n",
      "Validation Accuracy: \t20.0%\n",
      "Loss at step 100: 0.000000\n",
      "Training Accuracy: \t100.0%\n",
      "Validation Accuracy: \t53.1%\n",
      "Loss at step 200: 0.000000\n",
      "Training Accuracy: \t100.0%\n",
      "Validation Accuracy: \t53.1%\n",
      "Loss at step 300: 0.000000\n",
      "Training Accuracy: \t100.0%\n",
      "Validation Accuracy: \t53.1%\n",
      "\n",
      "Test Accuracy: \t\t56.8%\n",
      "CPU times: user 22.7 s, sys: 1.6 s, total: 24.3 s\n",
      "Wall time: 8.41 s\n"
     ]
    }
   ],
   "source": [
    "%%time\n",
    "#Running the computation\n",
    "num_steps = 301\n",
    "\n",
    "def accuracy(predictions, labels):\n",
    "    return 100.0 * np.sum(np.argmax(predictions, 1) == np.argmax(labels, 1)) / predictions.shape[0]\n",
    "\n",
    "with tf.Session(graph=graph) as session:\n",
    "    \"\"\"  This is a one-time operation which ensures the parameters get initialized as\n",
    "    we described in the graph: random weights for the matrix, zeros for the\n",
    "    biases.\"\"\"\n",
    "    tf.initialize_all_variables().run()\n",
    "    print(\"Initialized\")\n",
    "    for step in range(num_steps):\n",
    "        \"\"\"Run the computations. We tell .run() that we want to run the optimizer,\n",
    "        and get the loss value and the training predictions returned as numpy\n",
    "        arrays.\"\"\"\n",
    "        _, l, predictions = session.run([optimizer, loss, train_prediction])\n",
    "        if step % 100 == 0:\n",
    "            print(\"Loss at step %d: %f\" %(step, l))\n",
    "            print(\"Training Accuracy: \\t%.1f%%\" % accuracy(predictions, train_labels[:train_subset_size]))\n",
    "            \"\"\"Calling .eval() on valid_prediction is basically like calling run(), but\n",
    "            just to get that one numpy array. Note that it recomputes all its graph\n",
    "            dependencies.\"\"\"\n",
    "            print(\"Validation Accuracy: \\t%.1f%%\" %accuracy(valid_prediction.eval(), valid_labels))\n",
    "    print(\"\\nTest Accuracy: \\t\\t%.1f%%\" %accuracy(test_prediction.eval(), test_labels))"
   ]
  },
  {
   "cell_type": "markdown",
   "metadata": {},
   "source": [
    "### Dropout Technique on Hidden Layer\n",
    "Dropout should only be introduced during training, not evaluation, otherwise your evaluation results would be stochastic as well. TensorFlow provides nn.dropout() for that, but you have to make sure it's only inserted during training."
   ]
  },
  {
   "cell_type": "code",
   "execution_count": 184,
   "metadata": {
    "collapsed": false
   },
   "outputs": [],
   "source": [
    "train_subset_size = 100\n",
    "hidden_layer_nodes = 1024\n",
    "\n",
    "graph = tf.Graph()\n",
    "with graph.as_default():\n",
    "    \"\"\"Input data. For the training data, we use a placeholder that will be fed\n",
    "    at run time with a training minibatch\"\"\"\n",
    "    tf_train_dataset = tf.constant(train_dataset[:train_subset_size])\n",
    "    tf_train_labels = tf.constant(train_labels[:train_subset_size])\n",
    "    tf_valid_dataset = tf.constant(valid_dataset)\n",
    "    tf_test_dataset = tf.constant(test_dataset)\n",
    "    \n",
    "    \"\"\"    Variables - Weights\n",
    "    \n",
    "    These are the parameters that we are going to be training.\n",
    "    Weights are initiallized randomly and the biases to zero\n",
    "    \"\"\"\n",
    "    weights1 = tf.Variable(tf.truncated_normal([image_size * image_size, hidden_layer_nodes]))\n",
    "    biases1 = tf.Variable(tf.zeros([hidden_layer_nodes]))\n",
    "    \n",
    "    weights2 = tf.Variable(tf.truncated_normal([hidden_layer_nodes, num_labels]))\n",
    "    biases2 = tf.Variable(tf.zeros([num_labels]))\n",
    "    \n",
    "    keep_prob = tf.placeholder(tf.float32)\n",
    "    \n",
    "    \"\"\"Training Computation\n",
    "  \n",
    "    We multiply the inputs with the weight matrix, and add biases. \n",
    "    We compute then calculate the softmax and cross-entropy (it's one \n",
    "    operation in TensorFlow, because it's very common, and it can be optimized). \n",
    "    We take the average of this cross-entropy across all training examples: that's our loss.\n",
    "    \"\"\"\n",
    "    hidden = tf.nn.relu(tf.matmul(tf_train_dataset, weights1) + biases1)\n",
    "    hidden_drop = tf.nn.dropout(hidden, keep_prob=keep_prob)\n",
    "    logits = tf.matmul(hidden_drop, weights2) + biases2\n",
    "    loss = tf.reduce_mean(tf.nn.softmax_cross_entropy_with_logits(logits, tf_train_labels))\n",
    "    \n",
    "    \"\"\"Optimizer\n",
    "    We now find the minimum of this loss using gradient descent\n",
    "    \"\"\"\n",
    "    optimizer = tf.train.GradientDescentOptimizer(0.5).minimize(loss)\n",
    "    \n",
    "    \"\"\"Predictions for the training, validation and test data.\n",
    "    \n",
    "    These are not part of training, but merely here so that we can report\n",
    "    accuracy figures as we train\n",
    "    \"\"\"\n",
    "    train_prediction = tf.nn.softmax(logits)\n",
    "    \n",
    "    hidden_valid = tf.nn.relu(tf.matmul(tf_valid_dataset, weights1) + biases1)\n",
    "    valid_prediction = tf.nn.softmax(tf.matmul(hidden_valid, weights2) + biases2)\n",
    "    \n",
    "    hidden_test = tf.nn.relu(tf.matmul(tf_test_dataset, weights1) + biases1)\n",
    "    test_prediction = tf.nn.softmax(tf.matmul(hidden_test, weights2) + biases2)"
   ]
  },
  {
   "cell_type": "code",
   "execution_count": 185,
   "metadata": {
    "collapsed": false
   },
   "outputs": [
    {
     "name": "stdout",
     "output_type": "stream",
     "text": [
      "Initialized\n",
      "Loss at step 0: 407.833954\n",
      "Accuracy on training with dropout: \t13.0%\n",
      "Training Accuracy: \t30.0%\n",
      "Validation Accuracy: \t16.6%\n",
      "Loss at step 100: 0.000000\n",
      "Accuracy on training with dropout: \t100.0%\n",
      "Training Accuracy: \t100.0%\n",
      "Validation Accuracy: \t60.5%\n",
      "Loss at step 200: 0.000000\n",
      "Accuracy on training with dropout: \t100.0%\n",
      "Training Accuracy: \t100.0%\n",
      "Validation Accuracy: \t60.9%\n",
      "Loss at step 300: 0.000000\n",
      "Accuracy on training with dropout: \t100.0%\n",
      "Training Accuracy: \t100.0%\n",
      "Validation Accuracy: \t60.9%\n",
      "\n",
      "Test Accuracy: \t\t65.4%\n",
      "CPU times: user 23.6 s, sys: 1.65 s, total: 25.2 s\n",
      "Wall time: 8.63 s\n"
     ]
    }
   ],
   "source": [
    "%%time\n",
    "#Running the computation\n",
    "num_steps = 301\n",
    "\n",
    "def accuracy(predictions, labels):\n",
    "    return 100.0 * np.sum(np.argmax(predictions, 1) == np.argmax(labels, 1)) / predictions.shape[0]\n",
    "\n",
    "with tf.Session(graph=graph) as session:\n",
    "    \"\"\"  This is a one-time operation which ensures the parameters get initialized as\n",
    "    we described in the graph: random weights for the matrix, zeros for the\n",
    "    biases.\"\"\"\n",
    "    tf.initialize_all_variables().run()\n",
    "    print(\"Initialized\")\n",
    "    for step in range(num_steps):\n",
    "        \"\"\"Run the computations. We tell .run() that we want to run the optimizer,\n",
    "        and get the loss value and the training predictions returned as numpy\n",
    "        arrays.\"\"\"\n",
    "        _, l, predictions = session.run([optimizer, loss, train_prediction], feed_dict={keep_prob : 0.6})\n",
    "        if step % 100 == 0:\n",
    "            print(\"Loss at step %d: %f\" %(step, l))\n",
    "            print(\"Accuracy on training with dropout: \\t%.1f%%\" %accuracy(predictions, train_labels[:train_subset_size]))\n",
    "            print(\"Training Accuracy: \\t%.1f%%\" %accuracy(train_prediction.eval({keep_prob : 1.0}), train_labels[:train_subset_size]))\n",
    "            \"\"\"Calling .eval() on valid_prediction is basically like calling run(), but\n",
    "            just to get that one numpy array. Note that it recomputes all its graph\n",
    "            dependencies.\"\"\"\n",
    "            print(\"Validation Accuracy: \\t%.1f%%\" %accuracy(valid_prediction.eval(), valid_labels))\n",
    "    print(\"\\nTest Accuracy: \\t\\t%.1f%%\" %accuracy(test_prediction.eval(), test_labels))"
   ]
  },
  {
   "cell_type": "markdown",
   "metadata": {},
   "source": [
    "## Deep Neural Network + SGD - 1 Layer - Dropout\n",
    "Try to get the best performance you can using a multi-layer model! The best reported test accuracy using a deep network is 97.1%.\n",
    "\n",
    "Another one is to use learning rate decay:\n",
    "`python\n",
    "global_step = tf.Variable(0)  # count the number of steps taken.\n",
    "learning_rate = tf.train.exponential_decay(0.5, global_step, ...)\n",
    "optimizer = tf.train.GradientDescentOptimizer(learning_rate).minimize(loss, global_step=global_step)`"
   ]
  },
  {
   "cell_type": "code",
   "execution_count": 176,
   "metadata": {
    "collapsed": false
   },
   "outputs": [],
   "source": [
    "batch_size = 128\n",
    "hidden_layer_1_nodes = 1024\n",
    "\n",
    "graph = tf.Graph()\n",
    "with graph.as_default():\n",
    "    \"\"\"Input data. For the training data, we use a placeholder that will be fed\n",
    "    at run time with a training minibatch\"\"\"\n",
    "    tf_train_dataset = tf.placeholder(tf.float32, shape = (batch_size, image_size * image_size))\n",
    "    tf_train_labels = tf.placeholder(tf.float32, shape = (batch_size, num_labels))\n",
    "    \n",
    "    tf_valid_dataset = tf.constant(valid_dataset)\n",
    "    tf_test_dataset = tf.constant(test_dataset)\n",
    "    \n",
    "    \"\"\"    Variables - Weights\n",
    "    \n",
    "    These are the parameters that we are going to be training.\n",
    "    Weights are initiallized randomly and the biases to zero\n",
    "    \"\"\"\n",
    "    weights1 = tf.Variable(tf.truncated_normal([image_size * image_size, hidden_layer_1_nodes]))\n",
    "    biases1 = tf.Variable(tf.zeros([hidden_layer_1_nodes]))\n",
    "    \n",
    "    weights2 = tf.Variable(tf.truncated_normal([hidden_layer_1_nodes, num_labels]))\n",
    "    biases2 = tf.Variable(tf.zeros([num_labels]))\n",
    "    \n",
    "    \"\"\"Training Computation\n",
    "  \n",
    "    We multiply the inputs with the weight matrix, and add biases. \n",
    "    We compute then calculate the softmax and cross-entropy (it's one \n",
    "    operation in TensorFlow, because it's very common, and it can be optimized). \n",
    "    We take the average of this cross-entropy across all training examples: that's our loss.\n",
    "    \"\"\"\n",
    "    hidden1 = tf.nn.relu(tf.matmul(tf_train_dataset, weights1) + biases1)\n",
    "    hidden1 = tf.nn.dropout(hidden1, 0.6)\n",
    "    logits = tf.matmul(hidden1, weights2) + biases2\n",
    "    loss = tf.reduce_mean(tf.nn.softmax_cross_entropy_with_logits(logits, tf_train_labels)) \n",
    "#            tf.nn.l2_loss(weights1) + tf.nn.l2_loss(weights2)\n",
    "    \n",
    "    \"\"\"Optimizer\n",
    "    We now find the minimum of this loss using gradient descent\n",
    "    \"\"\"\n",
    "    global_step = tf.Variable(0)  # count the number of steps taken.\n",
    "    learning_rate = tf.train.exponential_decay(0.5, global_step, 100000, 0.95, staircase = True)\n",
    "    optimizer = tf.train.GradientDescentOptimizer(learning_rate).minimize(loss, global_step=global_step)\n",
    "#     optimizer = tf.train.GradientDescentOptimizer(0.5).minimize(loss)\n",
    "    \n",
    "    \"\"\"Predictions for the training, validation and test data.\n",
    "    \n",
    "    These are not part of training, but merely here so that we can report\n",
    "    accuracy figures as we train\n",
    "    \"\"\"\n",
    "    train_prediction = tf.nn.softmax(logits)\n",
    "    \n",
    "    hidden1 = tf.nn.relu(tf.matmul(tf_valid_dataset, weights1) + biases1)\n",
    "    valid_prediction = tf.nn.softmax(tf.matmul(hidden1, weights2) + biases2)\n",
    "    \n",
    "    hidden1 = tf.nn.relu(tf.matmul(tf_test_dataset, weights1) + biases1)\n",
    "    test_prediction = tf.nn.softmax(tf.matmul(hidden1, weights2) + biases2)"
   ]
  },
  {
   "cell_type": "code",
   "execution_count": 177,
   "metadata": {
    "collapsed": false
   },
   "outputs": [
    {
     "name": "stdout",
     "output_type": "stream",
     "text": [
      "Initialized\n",
      "Minibatch loss at step 0: 447.419128\n",
      "Minibatch accuracy: \t6.2%\n",
      "Validation accuracy: \t21.8%\n",
      "Minibatch loss at step 500: 40.777122\n",
      "Minibatch accuracy: \t70.3%\n",
      "Validation accuracy: \t79.4%\n",
      "Minibatch loss at step 1000: 23.834034\n",
      "Minibatch accuracy: \t75.8%\n",
      "Validation accuracy: \t77.9%\n",
      "Minibatch loss at step 1500: 12.013689\n",
      "Minibatch accuracy: \t70.3%\n",
      "Validation accuracy: \t79.6%\n",
      "Minibatch loss at step 2000: 9.719074\n",
      "Minibatch accuracy: \t69.5%\n",
      "Validation accuracy: \t80.5%\n",
      "Minibatch loss at step 2500: 2.278395\n",
      "Minibatch accuracy: \t77.3%\n",
      "Validation accuracy: \t80.0%\n",
      "Minibatch loss at step 3000: 2.928926\n",
      "Minibatch accuracy: \t78.1%\n",
      "Validation accuracy: \t79.9%\n",
      "Minibatch loss at step 3500: 4.783579\n",
      "Minibatch accuracy: \t78.1%\n",
      "Validation accuracy: \t79.8%\n",
      "\n",
      "Test accuracy: 86.4%\n",
      "CPU times: user 4min 16s, sys: 15.9 s, total: 4min 32s\n",
      "Wall time: 1min 33s\n"
     ]
    }
   ],
   "source": [
    "%%time\n",
    "num_steps = 3001\n",
    "\n",
    "with tf.Session(graph=graph) as session:\n",
    "    tf.initialize_all_variables().run()\n",
    "    print(\"Initialized\")\n",
    "    for step in range(num_steps):\n",
    "        \n",
    "        \"\"\"This offset is an integer of the batch size, Such that \n",
    "        we are taking the batches not in the order they are presented.\"\"\"\n",
    "        offset = (step * batch_size) % (train_labels.shape[0] - batch_size)\n",
    "        \n",
    "        # Generate a minibatch.\n",
    "        batch_data = train_dataset[offset:(offset + batch_size)]\n",
    "        batch_labels = train_labels[offset:(offset + batch_size)]\n",
    "        \n",
    "        \"\"\"Prepare a dictionary telling the session where to feed the minibatch.\n",
    "        The key of the dictionary is the placeholder node of the graph to be fed,\n",
    "        and the value is the numpy array to feed to it.\"\"\"\n",
    "        feed_dict = {tf_train_dataset : batch_data, tf_train_labels : batch_labels}\n",
    "        \n",
    "        # Perform calculations\n",
    "        _, l, predictions = session.run([optimizer, loss, train_prediction], feed_dict = feed_dict)\n",
    "        \n",
    "        # Give feedback every 500 steps\n",
    "        if step % 500 == 0:\n",
    "            print(\"Minibatch loss at step %d: %f\" % (step, l))\n",
    "            print(\"Minibatch accuracy: \\t%.1f%%\" % accuracy(predictions, batch_labels))\n",
    "            print(\"Validation accuracy: \\t%.1f%%\" % accuracy(valid_prediction.eval(), valid_labels))\n",
    "    print(\"\\nTest accuracy: %.1f%%\" % accuracy(test_prediction.eval(), test_labels))"
   ]
  },
  {
   "cell_type": "markdown",
   "metadata": {},
   "source": [
    "## Deep Neural Network + SGD - 2 Layer - Dropout\n",
    "Try to get the best performance you can using a multi-layer model! The best reported test accuracy using a deep network is 97.1%.\n",
    "\n",
    "Another one is to use learning rate decay:\n",
    "`python\n",
    "global_step = tf.Variable(0)  # count the number of steps taken.\n",
    "learning_rate = tf.train.exponential_decay(0.5, global_step, ...)\n",
    "optimizer = tf.train.GradientDescentOptimizer(learning_rate).minimize(loss, global_step=global_step)`"
   ]
  },
  {
   "cell_type": "code",
   "execution_count": 254,
   "metadata": {
    "collapsed": true
   },
   "outputs": [],
   "source": [
    "batch_size = 256\n",
    "hidden_layer_1_nodes = 1024\n",
    "hidden_layer_2_nodes = 512\n",
    "\n",
    "graph = tf.Graph()\n",
    "with graph.as_default():\n",
    "    \"\"\"Input data. For the training data, we use a placeholder that will be fed\n",
    "    at run time with a training minibatch\"\"\"\n",
    "    tf_train_dataset = tf.placeholder(tf.float32, shape = (batch_size, image_size * image_size))\n",
    "    tf_train_labels = tf.placeholder(tf.float32, shape = (batch_size, num_labels))\n",
    "    \n",
    "    tf_valid_dataset = tf.constant(valid_dataset)\n",
    "    tf_test_dataset = tf.constant(test_dataset)\n",
    "    \n",
    "    \"\"\"    Variables - Weights\n",
    "    \n",
    "    These are the parameters that we are going to be training.\n",
    "    Weights are initiallized randomly and the biases to zero\n",
    "    \"\"\"\n",
    "    weights1 = tf.Variable(tf.truncated_normal([image_size * image_size, hidden_layer_1_nodes]))\n",
    "    biases1 = tf.Variable(tf.zeros([hidden_layer_1_nodes]))\n",
    "    \n",
    "    weights2 = tf.Variable(tf.truncated_normal([hidden_layer_1_nodes, hidden_layer_2_nodes]))\n",
    "    biases2 = tf.Variable(tf.zeros([hidden_layer_2_nodes]))\n",
    "    \n",
    "    weights3 = tf.Variable(tf.truncated_normal([hidden_layer_2_nodes, num_labels]))\n",
    "    biases3 = tf.Variable(tf.zeros([num_labels]))\n",
    "    \n",
    "    \"\"\"Training Computation\n",
    "  \n",
    "    We multiply the inputs with the weight matrix, and add biases. \n",
    "    We compute then calculate the softmax and cross-entropy (it's one \n",
    "    operation in TensorFlow, because it's very common, and it can be optimized). \n",
    "    We take the average of this cross-entropy across all training examples: that's our loss.\n",
    "    \"\"\"\n",
    "    hidden1 = tf.nn.relu(tf.matmul(tf_train_dataset, weights1) + biases1)\n",
    "#     hidden1 = tf.nn.dropout(hidden1, 0.6)\n",
    "    hidden2 = tf.nn.relu(tf.matmul(hidden1, weights2) + biases2)\n",
    "#     hidden2 = tf.nn.dropout(hidden2, 0.6)\n",
    "    logits = tf.matmul(hidden2, weights3) + biases3\n",
    "    loss = tf.reduce_mean(tf.nn.softmax_cross_entropy_with_logits(logits, tf_train_labels))\n",
    "    \n",
    "    \"\"\"Optimizer\n",
    "    We now find the minimum of this loss using gradient descent\n",
    "    \"\"\"\n",
    "    global_step = tf.Variable(0)  # count the number of steps taken.\n",
    "    learning_rate = tf.train.exponential_decay(0.001, global_step, 100000, 0.95, staircase = True)\n",
    "    optimizer = tf.train.GradientDescentOptimizer(learning_rate).minimize(loss, global_step=global_step)\n",
    "#     optimizer = tf.train.GradientDescentOptimizer(0.5).minimize(loss)\n",
    "    \n",
    "    \"\"\"Predictions for the training, validation and test data.\n",
    "    \n",
    "    These are not part of training, but merely here so that we can report\n",
    "    accuracy figures as we train\n",
    "    \"\"\"\n",
    "    train_prediction = tf.nn.softmax(logits)\n",
    "    \n",
    "    hidden1 = tf.nn.relu(tf.matmul(tf_valid_dataset, weights1) + biases1)\n",
    "    hidden2 = tf.nn.relu(tf.matmul(hidden1, weights2) + biases2)\n",
    "    valid_prediction = tf.nn.softmax(tf.matmul(hidden2, weights3) + biases3)\n",
    "    \n",
    "    hidden1 = tf.nn.relu(tf.matmul(tf_test_dataset, weights1) + biases1)\n",
    "    hidden2 = tf.nn.relu(tf.matmul(hidden1, weights2) + biases2)\n",
    "    test_prediction = tf.nn.softmax(tf.matmul(hidden2, weights3) + biases3)"
   ]
  },
  {
   "cell_type": "code",
   "execution_count": null,
   "metadata": {
    "collapsed": false
   },
   "outputs": [
    {
     "name": "stdout",
     "output_type": "stream",
     "text": [
      "Initialized\n",
      "Minibatch loss at step 0: 3781.179443\n",
      "Minibatch accuracy: \t12.9%\n",
      "Validation accuracy: \t21.7%\n"
     ]
    }
   ],
   "source": [
    "%%time\n",
    "num_steps = 30001\n",
    "\n",
    "with tf.Session(graph=graph) as session:\n",
    "    tf.initialize_all_variables().run()\n",
    "    print(\"Initialized\")\n",
    "    for step in range(num_steps):\n",
    "        \n",
    "        \"\"\"This offset is an integer of the batch size, Such that \n",
    "        we are taking the batches not in the order they are presented.\"\"\"\n",
    "        offset = (step * batch_size) % (train_labels.shape[0] - batch_size)\n",
    "        \n",
    "        # Generate a minibatch.\n",
    "        batch_data = train_dataset[offset:(offset + batch_size)]\n",
    "        batch_labels = train_labels[offset:(offset + batch_size)]\n",
    "        \n",
    "        \"\"\"Prepare a dictionary telling the session where to feed the minibatch.\n",
    "        The key of the dictionary is the placeholder node of the graph to be fed,\n",
    "        and the value is the numpy array to feed to it.\"\"\"\n",
    "        feed_dict = {tf_train_dataset : batch_data, tf_train_labels : batch_labels}\n",
    "        \n",
    "        # Perform calculations\n",
    "        _, l, predictions = session.run([optimizer, loss, train_prediction], feed_dict = feed_dict)\n",
    "        \n",
    "        # Give feedback every 500 steps\n",
    "        if step % 2000 == 0:\n",
    "            print(\"Minibatch loss at step %d: %f\" % (step, l))\n",
    "            print(\"Minibatch accuracy: \\t%.1f%%\" % accuracy(predictions, batch_labels))\n",
    "            print(\"Validation accuracy: \\t%.1f%%\" % accuracy(valid_prediction.eval(), valid_labels))\n",
    "    print(\"\\nTest accuracy: %.1f%%\" % accuracy(test_prediction.eval(), test_labels))"
   ]
  },
  {
   "cell_type": "markdown",
   "metadata": {},
   "source": [
    "## Deep Neural Network + SGD - 3 Layer - Dropout\n",
    "Try to get the best performance you can using a multi-layer model! The best reported test accuracy using a deep network is 97.1%.\n",
    "\n",
    "Another one is to use learning rate decay:\n",
    "`python\n",
    "global_step = tf.Variable(0)  # count the number of steps taken.\n",
    "learning_rate = tf.train.exponential_decay(0.5, global_step, ...)\n",
    "optimizer = tf.train.GradientDescentOptimizer(learning_rate).minimize(loss, global_step=global_step)`"
   ]
  },
  {
   "cell_type": "code",
   "execution_count": 252,
   "metadata": {
    "collapsed": true
   },
   "outputs": [],
   "source": [
    "batch_size = 256\n",
    "hidden_layer_1_nodes = 1024\n",
    "hidden_layer_2_nodes = 512\n",
    "hidden_layer_3_nodes = 256\n",
    "\n",
    "graph = tf.Graph()\n",
    "with graph.as_default():\n",
    "    \"\"\"Input data. For the training data, we use a placeholder that will be fed\n",
    "    at run time with a training minibatch\"\"\"\n",
    "    tf_train_dataset = tf.placeholder(tf.float32, shape = (batch_size, image_size * image_size))\n",
    "    tf_train_labels = tf.placeholder(tf.float32, shape = (batch_size, num_labels))\n",
    "    \n",
    "    tf_valid_dataset = tf.constant(valid_dataset)\n",
    "    tf_test_dataset = tf.constant(test_dataset)\n",
    "    \n",
    "    \"\"\"    Variables - Weights\n",
    "    \n",
    "    These are the parameters that we are going to be training.\n",
    "    Weights are initiallized randomly and the biases to zero\n",
    "    \"\"\"\n",
    "    weights1 = tf.Variable(tf.truncated_normal([image_size * image_size, hidden_layer_1_nodes]))\n",
    "    biases1 = tf.Variable(tf.zeros([hidden_layer_1_nodes]))\n",
    "    \n",
    "    weights2 = tf.Variable(tf.truncated_normal([hidden_layer_1_nodes, hidden_layer_2_nodes]))\n",
    "    biases2 = tf.Variable(tf.zeros([hidden_layer_2_nodes]))\n",
    "    \n",
    "    weights3 = tf.Variable(tf.truncated_normal([hidden_layer_2_nodes, hidden_layer_3_nodes]))\n",
    "    biases3 = tf.Variable(tf.zeros([hidden_layer_3_nodes]))\n",
    "    \n",
    "    weights4 = tf.Variable(tf.truncated_normal([hidden_layer_3_nodes, num_labels]))\n",
    "    biases4 = tf.Variable(tf.zeros([num_labels]))\n",
    "    \n",
    "    \"\"\"Training Computation\n",
    "  \n",
    "    We multiply the inputs with the weight matrix, and add biases. \n",
    "    We compute then calculate the softmax and cross-entropy (it's one \n",
    "    operation in TensorFlow, because it's very common, and it can be optimized). \n",
    "    We take the average of this cross-entropy across all training examples: that's our loss.\n",
    "    \"\"\"\n",
    "    hidden1 = tf.nn.relu(tf.matmul(tf_train_dataset, weights1) + biases1)\n",
    "    hidden1 = tf.nn.dropout(hidden1, 0.6)\n",
    "    hidden2 = tf.nn.relu(tf.matmul(hidden1, weights2) + biases2)\n",
    "    hidden2 = tf.nn.dropout(hidden2, 0.6)\n",
    "    hidden3 = tf.nn.relu(tf.matmul(hidden2, weights3) + biases3)\n",
    "    hidden3 = tf.nn.dropout(hidden3, 0.6)\n",
    "    logits = tf.matmul(hidden3, weights4) + biases4\n",
    "    loss = tf.reduce_mean(tf.nn.softmax_cross_entropy_with_logits(logits, tf_train_labels))\n",
    "#            .001 * tf.nn.l2_loss(weights1) + .001 * tf.nn.l2_loss(weights2) + .001 * tf.nn.l2_loss(weights3) \n",
    "    \n",
    "    \n",
    "    \"\"\"Optimizer\n",
    "    We now find the minimum of this loss using gradient descent\n",
    "    \"\"\"\n",
    "    global_step = tf.Variable(0)  # count the number of steps taken.\n",
    "    learning_rate = tf.train.exponential_decay(0.00001, global_step, 100000, 0.95, staircase = True)\n",
    "    optimizer = tf.train.GradientDescentOptimizer(learning_rate).minimize(loss, global_step=global_step)\n",
    "#     optimizer = tf.train.GradientDescentOptimizer(0.0001).minimize(loss)\n",
    "    \n",
    "    \"\"\"Predictions for the training, validation and test data.\n",
    "    \n",
    "    These are not part of training, but merely here so that we can report\n",
    "    accuracy figures as we train\n",
    "    \"\"\"\n",
    "    train_prediction = tf.nn.softmax(logits)\n",
    "    \n",
    "    hidden1 = tf.nn.relu(tf.matmul(tf_valid_dataset, weights1) + biases1)\n",
    "    hidden2 = tf.nn.relu(tf.matmul(hidden1, weights2) + biases2)\n",
    "    hidden3 = tf.nn.relu(tf.matmul(hidden2, weights3) + biases3)\n",
    "    valid_prediction = tf.nn.softmax(tf.matmul(hidden3, weights4) + biases4)\n",
    "    \n",
    "    hidden1 = tf.nn.relu(tf.matmul(tf_test_dataset, weights1) + biases1)\n",
    "    hidden2 = tf.nn.relu(tf.matmul(hidden1, weights2) + biases2)\n",
    "    hidden3 = tf.nn.relu(tf.matmul(hidden2, weights3) + biases3)\n",
    "    test_prediction = tf.nn.softmax(tf.matmul(hidden3, weights4) + biases4)"
   ]
  },
  {
   "cell_type": "code",
   "execution_count": 253,
   "metadata": {
    "collapsed": false
   },
   "outputs": [
    {
     "name": "stdout",
     "output_type": "stream",
     "text": [
      "Initialized\n",
      "Minibatch loss at step 0: 103468.234375\n",
      "Minibatch accuracy: \t14.1%\n",
      "Validation accuracy: \t9.4%\n",
      "Minibatch loss at step 1000: 16517.367188\n",
      "Minibatch accuracy: \t41.0%\n",
      "Validation accuracy: \t69.3%\n",
      "Minibatch loss at step 2000: 10110.689453\n",
      "Minibatch accuracy: \t42.2%\n",
      "Validation accuracy: \t71.6%\n",
      "Minibatch loss at step 3000: 6874.708496\n",
      "Minibatch accuracy: \t44.5%\n",
      "Validation accuracy: \t71.3%\n",
      "Minibatch loss at step 4000: 4535.848633\n",
      "Minibatch accuracy: \t48.0%\n",
      "Validation accuracy: \t71.5%\n"
     ]
    },
    {
     "ename": "KeyboardInterrupt",
     "evalue": "",
     "output_type": "error",
     "traceback": [
      "\u001b[1;31m---------------------------------------------------------------------------\u001b[0m",
      "\u001b[1;31mKeyboardInterrupt\u001b[0m                         Traceback (most recent call last)",
      "\u001b[1;32m<ipython-input-253-ba5fb5909d61>\u001b[0m in \u001b[0;36m<module>\u001b[1;34m()\u001b[0m\n\u001b[1;32m----> 1\u001b[1;33m \u001b[0mget_ipython\u001b[0m\u001b[1;33m(\u001b[0m\u001b[1;33m)\u001b[0m\u001b[1;33m.\u001b[0m\u001b[0mrun_cell_magic\u001b[0m\u001b[1;33m(\u001b[0m\u001b[1;34m'time'\u001b[0m\u001b[1;33m,\u001b[0m \u001b[1;34m''\u001b[0m\u001b[1;33m,\u001b[0m \u001b[1;34m'num_steps = 30001\\nbatch_size = 256\\n\\nwith tf.Session(graph=graph) as session:\\n    tf.initialize_all_variables().run()\\n    print(\"Initialized\")\\n    for step in range(num_steps):\\n        \\n        \"\"\"This offset is an integer of the batch size, Such that \\n        we are taking the batches not in the order they are presented.\"\"\"\\n        offset = (step * batch_size) % (train_labels.shape[0] - batch_size)\\n        \\n        # Generate a minibatch.\\n        batch_data = train_dataset[offset:(offset + batch_size)]\\n        batch_labels = train_labels[offset:(offset + batch_size)]\\n        \\n        \"\"\"Prepare a dictionary telling the session where to feed the minibatch.\\n        The key of the dictionary is the placeholder node of the graph to be fed,\\n#         and the value is the numpy array to feed to it.\"\"\"\\n        feed_dict = {tf_train_dataset : batch_data, tf_train_labels : batch_labels}\\n        \\n        # Perform calculations\\n        _, l, predictions = session.run([optimizer, loss, train_prediction], feed_dict = feed_dict)\\n        \\n        # Give feedback every 500 steps\\n        if step % 1000 == 0:\\n            print(\"Minibatch loss at step %d: %f\" % (step, l))\\n            print(\"Minibatch accuracy: \\\\t%.1f%%\" % accuracy(predictions, batch_labels))\\n            print(\"Validation accuracy: \\\\t%.1f%%\" % accuracy(valid_prediction.eval(), valid_labels))\\n    print(\"\\\\nTest accuracy: %.1f%%\" % accuracy(test_prediction.eval(), test_labels))'\u001b[0m\u001b[1;33m)\u001b[0m\u001b[1;33m\u001b[0m\u001b[0m\n\u001b[0m",
      "\u001b[1;32m/usr/local/lib/python3.4/dist-packages/IPython/core/interactiveshell.py\u001b[0m in \u001b[0;36mrun_cell_magic\u001b[1;34m(self, magic_name, line, cell)\u001b[0m\n\u001b[0;32m   2118\u001b[0m             \u001b[0mmagic_arg_s\u001b[0m \u001b[1;33m=\u001b[0m \u001b[0mself\u001b[0m\u001b[1;33m.\u001b[0m\u001b[0mvar_expand\u001b[0m\u001b[1;33m(\u001b[0m\u001b[0mline\u001b[0m\u001b[1;33m,\u001b[0m \u001b[0mstack_depth\u001b[0m\u001b[1;33m)\u001b[0m\u001b[1;33m\u001b[0m\u001b[0m\n\u001b[0;32m   2119\u001b[0m             \u001b[1;32mwith\u001b[0m \u001b[0mself\u001b[0m\u001b[1;33m.\u001b[0m\u001b[0mbuiltin_trap\u001b[0m\u001b[1;33m:\u001b[0m\u001b[1;33m\u001b[0m\u001b[0m\n\u001b[1;32m-> 2120\u001b[1;33m                 \u001b[0mresult\u001b[0m \u001b[1;33m=\u001b[0m \u001b[0mfn\u001b[0m\u001b[1;33m(\u001b[0m\u001b[0mmagic_arg_s\u001b[0m\u001b[1;33m,\u001b[0m \u001b[0mcell\u001b[0m\u001b[1;33m)\u001b[0m\u001b[1;33m\u001b[0m\u001b[0m\n\u001b[0m\u001b[0;32m   2121\u001b[0m             \u001b[1;32mreturn\u001b[0m \u001b[0mresult\u001b[0m\u001b[1;33m\u001b[0m\u001b[0m\n\u001b[0;32m   2122\u001b[0m \u001b[1;33m\u001b[0m\u001b[0m\n",
      "\u001b[1;32m<decorator-gen-60>\u001b[0m in \u001b[0;36mtime\u001b[1;34m(self, line, cell, local_ns)\u001b[0m\n",
      "\u001b[1;32m/usr/local/lib/python3.4/dist-packages/IPython/core/magic.py\u001b[0m in \u001b[0;36m<lambda>\u001b[1;34m(f, *a, **k)\u001b[0m\n\u001b[0;32m    191\u001b[0m     \u001b[1;31m# but it's overkill for just that one bit of state.\u001b[0m\u001b[1;33m\u001b[0m\u001b[1;33m\u001b[0m\u001b[0m\n\u001b[0;32m    192\u001b[0m     \u001b[1;32mdef\u001b[0m \u001b[0mmagic_deco\u001b[0m\u001b[1;33m(\u001b[0m\u001b[0marg\u001b[0m\u001b[1;33m)\u001b[0m\u001b[1;33m:\u001b[0m\u001b[1;33m\u001b[0m\u001b[0m\n\u001b[1;32m--> 193\u001b[1;33m         \u001b[0mcall\u001b[0m \u001b[1;33m=\u001b[0m \u001b[1;32mlambda\u001b[0m \u001b[0mf\u001b[0m\u001b[1;33m,\u001b[0m \u001b[1;33m*\u001b[0m\u001b[0ma\u001b[0m\u001b[1;33m,\u001b[0m \u001b[1;33m**\u001b[0m\u001b[0mk\u001b[0m\u001b[1;33m:\u001b[0m \u001b[0mf\u001b[0m\u001b[1;33m(\u001b[0m\u001b[1;33m*\u001b[0m\u001b[0ma\u001b[0m\u001b[1;33m,\u001b[0m \u001b[1;33m**\u001b[0m\u001b[0mk\u001b[0m\u001b[1;33m)\u001b[0m\u001b[1;33m\u001b[0m\u001b[0m\n\u001b[0m\u001b[0;32m    194\u001b[0m \u001b[1;33m\u001b[0m\u001b[0m\n\u001b[0;32m    195\u001b[0m         \u001b[1;32mif\u001b[0m \u001b[0mcallable\u001b[0m\u001b[1;33m(\u001b[0m\u001b[0marg\u001b[0m\u001b[1;33m)\u001b[0m\u001b[1;33m:\u001b[0m\u001b[1;33m\u001b[0m\u001b[0m\n",
      "\u001b[1;32m/usr/local/lib/python3.4/dist-packages/IPython/core/magics/execution.py\u001b[0m in \u001b[0;36mtime\u001b[1;34m(self, line, cell, local_ns)\u001b[0m\n\u001b[0;32m   1175\u001b[0m         \u001b[1;32melse\u001b[0m\u001b[1;33m:\u001b[0m\u001b[1;33m\u001b[0m\u001b[0m\n\u001b[0;32m   1176\u001b[0m             \u001b[0mst\u001b[0m \u001b[1;33m=\u001b[0m \u001b[0mclock2\u001b[0m\u001b[1;33m(\u001b[0m\u001b[1;33m)\u001b[0m\u001b[1;33m\u001b[0m\u001b[0m\n\u001b[1;32m-> 1177\u001b[1;33m             \u001b[0mexec\u001b[0m\u001b[1;33m(\u001b[0m\u001b[0mcode\u001b[0m\u001b[1;33m,\u001b[0m \u001b[0mglob\u001b[0m\u001b[1;33m,\u001b[0m \u001b[0mlocal_ns\u001b[0m\u001b[1;33m)\u001b[0m\u001b[1;33m\u001b[0m\u001b[0m\n\u001b[0m\u001b[0;32m   1178\u001b[0m             \u001b[0mend\u001b[0m \u001b[1;33m=\u001b[0m \u001b[0mclock2\u001b[0m\u001b[1;33m(\u001b[0m\u001b[1;33m)\u001b[0m\u001b[1;33m\u001b[0m\u001b[0m\n\u001b[0;32m   1179\u001b[0m             \u001b[0mout\u001b[0m \u001b[1;33m=\u001b[0m \u001b[1;32mNone\u001b[0m\u001b[1;33m\u001b[0m\u001b[0m\n",
      "\u001b[1;32m<timed exec>\u001b[0m in \u001b[0;36m<module>\u001b[1;34m()\u001b[0m\n",
      "\u001b[1;32m/usr/local/lib/python3.4/dist-packages/tensorflow/python/client/session.py\u001b[0m in \u001b[0;36mrun\u001b[1;34m(self, fetches, feed_dict, options, run_metadata)\u001b[0m\n\u001b[0;32m    338\u001b[0m     \u001b[1;32mtry\u001b[0m\u001b[1;33m:\u001b[0m\u001b[1;33m\u001b[0m\u001b[0m\n\u001b[0;32m    339\u001b[0m       result = self._run(None, fetches, feed_dict, options_ptr,\n\u001b[1;32m--> 340\u001b[1;33m                          run_metadata_ptr)\n\u001b[0m\u001b[0;32m    341\u001b[0m       \u001b[1;32mif\u001b[0m \u001b[0mrun_metadata\u001b[0m\u001b[1;33m:\u001b[0m\u001b[1;33m\u001b[0m\u001b[0m\n\u001b[0;32m    342\u001b[0m         \u001b[0mproto_data\u001b[0m \u001b[1;33m=\u001b[0m \u001b[0mtf_session\u001b[0m\u001b[1;33m.\u001b[0m\u001b[0mTF_GetBuffer\u001b[0m\u001b[1;33m(\u001b[0m\u001b[0mrun_metadata_ptr\u001b[0m\u001b[1;33m)\u001b[0m\u001b[1;33m\u001b[0m\u001b[0m\n",
      "\u001b[1;32m/usr/local/lib/python3.4/dist-packages/tensorflow/python/client/session.py\u001b[0m in \u001b[0;36m_run\u001b[1;34m(self, handle, fetches, feed_dict, options, run_metadata)\u001b[0m\n\u001b[0;32m    562\u001b[0m     \u001b[1;32mtry\u001b[0m\u001b[1;33m:\u001b[0m\u001b[1;33m\u001b[0m\u001b[0m\n\u001b[0;32m    563\u001b[0m       results = self._do_run(handle, target_list, unique_fetches,\n\u001b[1;32m--> 564\u001b[1;33m                              feed_dict_string, options, run_metadata)\n\u001b[0m\u001b[0;32m    565\u001b[0m     \u001b[1;32mfinally\u001b[0m\u001b[1;33m:\u001b[0m\u001b[1;33m\u001b[0m\u001b[0m\n\u001b[0;32m    566\u001b[0m       \u001b[1;31m# The movers are no longer used. Delete them.\u001b[0m\u001b[1;33m\u001b[0m\u001b[1;33m\u001b[0m\u001b[0m\n",
      "\u001b[1;32m/usr/local/lib/python3.4/dist-packages/tensorflow/python/client/session.py\u001b[0m in \u001b[0;36m_do_run\u001b[1;34m(self, handle, target_list, fetch_list, feed_dict, options, run_metadata)\u001b[0m\n\u001b[0;32m    635\u001b[0m     \u001b[1;32mif\u001b[0m \u001b[0mhandle\u001b[0m \u001b[1;32mis\u001b[0m \u001b[1;32mNone\u001b[0m\u001b[1;33m:\u001b[0m\u001b[1;33m\u001b[0m\u001b[0m\n\u001b[0;32m    636\u001b[0m       return self._do_call(_run_fn, self._session, feed_dict, fetch_list,\n\u001b[1;32m--> 637\u001b[1;33m                            target_list, options, run_metadata)\n\u001b[0m\u001b[0;32m    638\u001b[0m     \u001b[1;32melse\u001b[0m\u001b[1;33m:\u001b[0m\u001b[1;33m\u001b[0m\u001b[0m\n\u001b[0;32m    639\u001b[0m       return self._do_call(_prun_fn, self._session, handle, feed_dict,\n",
      "\u001b[1;32m/usr/local/lib/python3.4/dist-packages/tensorflow/python/client/session.py\u001b[0m in \u001b[0;36m_do_call\u001b[1;34m(self, fn, *args)\u001b[0m\n\u001b[0;32m    642\u001b[0m   \u001b[1;32mdef\u001b[0m \u001b[0m_do_call\u001b[0m\u001b[1;33m(\u001b[0m\u001b[0mself\u001b[0m\u001b[1;33m,\u001b[0m \u001b[0mfn\u001b[0m\u001b[1;33m,\u001b[0m \u001b[1;33m*\u001b[0m\u001b[0margs\u001b[0m\u001b[1;33m)\u001b[0m\u001b[1;33m:\u001b[0m\u001b[1;33m\u001b[0m\u001b[0m\n\u001b[0;32m    643\u001b[0m     \u001b[1;32mtry\u001b[0m\u001b[1;33m:\u001b[0m\u001b[1;33m\u001b[0m\u001b[0m\n\u001b[1;32m--> 644\u001b[1;33m       \u001b[1;32mreturn\u001b[0m \u001b[0mfn\u001b[0m\u001b[1;33m(\u001b[0m\u001b[1;33m*\u001b[0m\u001b[0margs\u001b[0m\u001b[1;33m)\u001b[0m\u001b[1;33m\u001b[0m\u001b[0m\n\u001b[0m\u001b[0;32m    645\u001b[0m     \u001b[1;32mexcept\u001b[0m \u001b[0mtf_session\u001b[0m\u001b[1;33m.\u001b[0m\u001b[0mStatusNotOK\u001b[0m \u001b[1;32mas\u001b[0m \u001b[0me\u001b[0m\u001b[1;33m:\u001b[0m\u001b[1;33m\u001b[0m\u001b[0m\n\u001b[0;32m    646\u001b[0m       \u001b[0merror_message\u001b[0m \u001b[1;33m=\u001b[0m \u001b[0mcompat\u001b[0m\u001b[1;33m.\u001b[0m\u001b[0mas_text\u001b[0m\u001b[1;33m(\u001b[0m\u001b[0me\u001b[0m\u001b[1;33m.\u001b[0m\u001b[0merror_message\u001b[0m\u001b[1;33m)\u001b[0m\u001b[1;33m\u001b[0m\u001b[0m\n",
      "\u001b[1;32m/usr/local/lib/python3.4/dist-packages/tensorflow/python/client/session.py\u001b[0m in \u001b[0;36m_run_fn\u001b[1;34m(session, feed_dict, fetch_list, target_list, options, run_metadata)\u001b[0m\n\u001b[0;32m    626\u001b[0m       \u001b[1;32melse\u001b[0m\u001b[1;33m:\u001b[0m\u001b[1;33m\u001b[0m\u001b[0m\n\u001b[0;32m    627\u001b[0m         return tf_session.TF_Run(\n\u001b[1;32m--> 628\u001b[1;33m             session, None, feed_dict, fetch_list, target_list, None)\n\u001b[0m\u001b[0;32m    629\u001b[0m \u001b[1;33m\u001b[0m\u001b[0m\n\u001b[0;32m    630\u001b[0m     \u001b[1;32mdef\u001b[0m \u001b[0m_prun_fn\u001b[0m\u001b[1;33m(\u001b[0m\u001b[0msession\u001b[0m\u001b[1;33m,\u001b[0m \u001b[0mhandle\u001b[0m\u001b[1;33m,\u001b[0m \u001b[0mfeed_dict\u001b[0m\u001b[1;33m,\u001b[0m \u001b[0mfetch_list\u001b[0m\u001b[1;33m)\u001b[0m\u001b[1;33m:\u001b[0m\u001b[1;33m\u001b[0m\u001b[0m\n",
      "\u001b[1;31mKeyboardInterrupt\u001b[0m: "
     ]
    }
   ],
   "source": [
    "%%time\n",
    "num_steps = 30001\n",
    "batch_size = 256\n",
    "\n",
    "with tf.Session(graph=graph) as session:\n",
    "    tf.initialize_all_variables().run()\n",
    "    print(\"Initialized\")\n",
    "    for step in range(num_steps):\n",
    "        \n",
    "        \"\"\"This offset is an integer of the batch size, Such that \n",
    "        we are taking the batches not in the order they are presented.\"\"\"\n",
    "        offset = (step * batch_size) % (train_labels.shape[0] - batch_size)\n",
    "        \n",
    "        # Generate a minibatch.\n",
    "        batch_data = train_dataset[offset:(offset + batch_size)]\n",
    "        batch_labels = train_labels[offset:(offset + batch_size)]\n",
    "        \n",
    "        \"\"\"Prepare a dictionary telling the session where to feed the minibatch.\n",
    "        The key of the dictionary is the placeholder node of the graph to be fed,\n",
    "#         and the value is the numpy array to feed to it.\"\"\"\n",
    "        feed_dict = {tf_train_dataset : batch_data, tf_train_labels : batch_labels}\n",
    "        \n",
    "        # Perform calculations\n",
    "        _, l, predictions = session.run([optimizer, loss, train_prediction], feed_dict = feed_dict)\n",
    "        \n",
    "        # Give feedback every 500 steps\n",
    "        if step % 1000 == 0:\n",
    "            print(\"Minibatch loss at step %d: %f\" % (step, l))\n",
    "            print(\"Minibatch accuracy: \\t%.1f%%\" % accuracy(predictions, batch_labels))\n",
    "            print(\"Validation accuracy: \\t%.1f%%\" % accuracy(valid_prediction.eval(), valid_labels))\n",
    "    print(\"\\nTest accuracy: %.1f%%\" % accuracy(test_prediction.eval(), test_labels))"
   ]
  },
  {
   "cell_type": "code",
   "execution_count": null,
   "metadata": {
    "collapsed": true
   },
   "outputs": [],
   "source": []
  },
  {
   "cell_type": "code",
   "execution_count": null,
   "metadata": {
    "collapsed": true
   },
   "outputs": [],
   "source": []
  }
 ],
 "metadata": {
  "kernelspec": {
   "display_name": "Python 3",
   "language": "python",
   "name": "python3"
  },
  "language_info": {
   "codemirror_mode": {
    "name": "ipython",
    "version": 3
   },
   "file_extension": ".py",
   "mimetype": "text/x-python",
   "name": "python",
   "nbconvert_exporter": "python",
   "pygments_lexer": "ipython3",
   "version": "3.4.3"
  }
 },
 "nbformat": 4,
 "nbformat_minor": 0
}
